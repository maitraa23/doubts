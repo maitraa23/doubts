{
 "cells": [
  {
   "cell_type": "code",
   "execution_count": 1,
   "id": "8286303d",
   "metadata": {},
   "outputs": [],
   "source": [
    "import selenium\n",
    "import time\n",
    "from selenium import webdriver\n",
    "from selenium.webdriver.support.ui import WebDriverWait\n",
    "from selenium.webdriver.support import expected_conditions as EC\n",
    "from selenium.webdriver.common.by import By\n",
    "from selenium.common.exceptions import NoSuchElementException\n",
    "import pandas as pd\n",
    "import warnings\n",
    "warnings.filterwarnings('ignore')\n",
    "import time #importing necessary libraries"
   ]
  },
  {
   "cell_type": "code",
   "execution_count": 2,
   "id": "bc176199",
   "metadata": {},
   "outputs": [],
   "source": [
    "driver=webdriver.Chrome(r\"C:\\Web_driver\\chromedriver.exe\") #loading chrome from C-drive and assigning a variable to it"
   ]
  },
  {
   "cell_type": "code",
   "execution_count": 3,
   "id": "5d64c423",
   "metadata": {},
   "outputs": [],
   "source": [
    "driver.get(\"https://www.amazon.in/\") # loading website in the chrome driver"
   ]
  },
  {
   "cell_type": "code",
   "execution_count": 4,
   "id": "e187c62d",
   "metadata": {},
   "outputs": [],
   "source": [
    "search_product=driver.find_element_by_xpath(\"/html/body/div[1]/header/div/div[1]/div[2]/div/form/div[2]/div[1]/input\")\n",
    "search_product.send_keys(\"Ukulele\") #Finding a product by taking the input from the user"
   ]
  },
  {
   "cell_type": "code",
   "execution_count": 5,
   "id": "2e6b5e54",
   "metadata": {},
   "outputs": [],
   "source": [
    "search_button=driver.find_element_by_xpath(\"/html/body/div[1]/header/div/div[1]/div[2]/div/form/div[3]/div/span/input\")\n",
    "search_button.click() #clicking search button via Xpath location"
   ]
  },
  {
   "cell_type": "code",
   "execution_count": 6,
   "id": "42c85cf7",
   "metadata": {},
   "outputs": [
    {
     "ename": "TimeoutException",
     "evalue": "Message: \nStacktrace:\nBacktrace:\n\tOrdinal0 [0x0081D953+2414931]\n\tOrdinal0 [0x007AF5E1+1963489]\n\tOrdinal0 [0x0069C6B8+837304]\n\tOrdinal0 [0x006C9500+1021184]\n\tOrdinal0 [0x006C979B+1021851]\n\tOrdinal0 [0x006F6502+1205506]\n\tOrdinal0 [0x006E44E4+1131748]\n\tOrdinal0 [0x006F4812+1198098]\n\tOrdinal0 [0x006E42B6+1131190]\n\tOrdinal0 [0x006BE860+976992]\n\tOrdinal0 [0x006BF756+980822]\n\tGetHandleVerifier [0x00A8CC62+2510274]\n\tGetHandleVerifier [0x00A7F760+2455744]\n\tGetHandleVerifier [0x008AEABA+551962]\n\tGetHandleVerifier [0x008AD916+547446]\n\tOrdinal0 [0x007B5F3B+1990459]\n\tOrdinal0 [0x007BA898+2009240]\n\tOrdinal0 [0x007BA985+2009477]\n\tOrdinal0 [0x007C3AD1+2046673]\n\tBaseThreadInitThunk [0x774BFA29+25]\n\tRtlGetAppContainerNamedObjectPath [0x77E87A9E+286]\n\tRtlGetAppContainerNamedObjectPath [0x77E87A6E+238]\n",
     "output_type": "error",
     "traceback": [
      "\u001b[1;31m---------------------------------------------------------------------------\u001b[0m",
      "\u001b[1;31mTimeoutException\u001b[0m                          Traceback (most recent call last)",
      "\u001b[1;32mC:\\Users\\ARSHIM~1\\AppData\\Local\\Temp/ipykernel_5568/2737903186.py\u001b[0m in \u001b[0;36m<module>\u001b[1;34m\u001b[0m\n\u001b[0;32m      1\u001b[0m \u001b[0mUkulele\u001b[0m\u001b[1;33m=\u001b[0m\u001b[1;33m[\u001b[0m\u001b[1;33m]\u001b[0m \u001b[1;31m#creating an empty list\u001b[0m\u001b[1;33m\u001b[0m\u001b[1;33m\u001b[0m\u001b[0m\n\u001b[0;32m      2\u001b[0m \u001b[0mdelay\u001b[0m\u001b[1;33m=\u001b[0m\u001b[1;36m10\u001b[0m \u001b[1;31m#mentioning the seconds the driver needs to wait\u001b[0m\u001b[1;33m\u001b[0m\u001b[1;33m\u001b[0m\u001b[0m\n\u001b[1;32m----> 3\u001b[1;33m \u001b[0mWebDriverWait\u001b[0m\u001b[1;33m(\u001b[0m\u001b[0mdriver\u001b[0m\u001b[1;33m,\u001b[0m\u001b[0mdelay\u001b[0m\u001b[1;33m)\u001b[0m\u001b[1;33m.\u001b[0m\u001b[0muntil\u001b[0m\u001b[1;33m(\u001b[0m\u001b[0mEC\u001b[0m\u001b[1;33m.\u001b[0m\u001b[0mpresence_of_element_located\u001b[0m\u001b[1;33m(\u001b[0m\u001b[1;33m(\u001b[0m\u001b[0mBy\u001b[0m\u001b[1;33m.\u001b[0m\u001b[0mCLASS_NAME\u001b[0m\u001b[1;33m,\u001b[0m\u001b[1;34m's-pagination-item s-pagination-next s-pagination-button s-pagination-separator'\u001b[0m\u001b[1;33m)\u001b[0m\u001b[1;33m)\u001b[0m\u001b[1;33m)\u001b[0m\u001b[1;33m\u001b[0m\u001b[1;33m\u001b[0m\u001b[0m\n\u001b[0m\u001b[0;32m      4\u001b[0m \u001b[1;32mfor\u001b[0m \u001b[0mi\u001b[0m \u001b[1;32min\u001b[0m \u001b[0mrange\u001b[0m\u001b[1;33m(\u001b[0m\u001b[1;36m0\u001b[0m\u001b[1;33m,\u001b[0m\u001b[1;36m8\u001b[0m\u001b[1;33m)\u001b[0m\u001b[1;33m:\u001b[0m\u001b[1;33m\u001b[0m\u001b[1;33m\u001b[0m\u001b[0m\n\u001b[0;32m      5\u001b[0m     \u001b[0mUkulele_Tag\u001b[0m\u001b[1;33m=\u001b[0m\u001b[0mdriver\u001b[0m\u001b[1;33m.\u001b[0m\u001b[0mfind_elements_by_xpath\u001b[0m\u001b[1;33m(\u001b[0m\u001b[1;34m\"//h2[@class='a-size-mini a-spacing-none a-color-base s-line-clamp-4']\"\u001b[0m\u001b[1;33m)\u001b[0m\u001b[1;33m\u001b[0m\u001b[1;33m\u001b[0m\u001b[0m\n",
      "\u001b[1;32m~\\anaconda3\\lib\\site-packages\\selenium\\webdriver\\support\\wait.py\u001b[0m in \u001b[0;36muntil\u001b[1;34m(self, method, message)\u001b[0m\n\u001b[0;32m     85\u001b[0m             \u001b[1;32mif\u001b[0m \u001b[0mtime\u001b[0m\u001b[1;33m.\u001b[0m\u001b[0mmonotonic\u001b[0m\u001b[1;33m(\u001b[0m\u001b[1;33m)\u001b[0m \u001b[1;33m>\u001b[0m \u001b[0mend_time\u001b[0m\u001b[1;33m:\u001b[0m\u001b[1;33m\u001b[0m\u001b[1;33m\u001b[0m\u001b[0m\n\u001b[0;32m     86\u001b[0m                 \u001b[1;32mbreak\u001b[0m\u001b[1;33m\u001b[0m\u001b[1;33m\u001b[0m\u001b[0m\n\u001b[1;32m---> 87\u001b[1;33m         \u001b[1;32mraise\u001b[0m \u001b[0mTimeoutException\u001b[0m\u001b[1;33m(\u001b[0m\u001b[0mmessage\u001b[0m\u001b[1;33m,\u001b[0m \u001b[0mscreen\u001b[0m\u001b[1;33m,\u001b[0m \u001b[0mstacktrace\u001b[0m\u001b[1;33m)\u001b[0m\u001b[1;33m\u001b[0m\u001b[1;33m\u001b[0m\u001b[0m\n\u001b[0m\u001b[0;32m     88\u001b[0m \u001b[1;33m\u001b[0m\u001b[0m\n\u001b[0;32m     89\u001b[0m     \u001b[1;32mdef\u001b[0m \u001b[0muntil_not\u001b[0m\u001b[1;33m(\u001b[0m\u001b[0mself\u001b[0m\u001b[1;33m,\u001b[0m \u001b[0mmethod\u001b[0m\u001b[1;33m,\u001b[0m \u001b[0mmessage\u001b[0m\u001b[1;33m=\u001b[0m\u001b[1;34m''\u001b[0m\u001b[1;33m)\u001b[0m\u001b[1;33m:\u001b[0m\u001b[1;33m\u001b[0m\u001b[1;33m\u001b[0m\u001b[0m\n",
      "\u001b[1;31mTimeoutException\u001b[0m: Message: \nStacktrace:\nBacktrace:\n\tOrdinal0 [0x0081D953+2414931]\n\tOrdinal0 [0x007AF5E1+1963489]\n\tOrdinal0 [0x0069C6B8+837304]\n\tOrdinal0 [0x006C9500+1021184]\n\tOrdinal0 [0x006C979B+1021851]\n\tOrdinal0 [0x006F6502+1205506]\n\tOrdinal0 [0x006E44E4+1131748]\n\tOrdinal0 [0x006F4812+1198098]\n\tOrdinal0 [0x006E42B6+1131190]\n\tOrdinal0 [0x006BE860+976992]\n\tOrdinal0 [0x006BF756+980822]\n\tGetHandleVerifier [0x00A8CC62+2510274]\n\tGetHandleVerifier [0x00A7F760+2455744]\n\tGetHandleVerifier [0x008AEABA+551962]\n\tGetHandleVerifier [0x008AD916+547446]\n\tOrdinal0 [0x007B5F3B+1990459]\n\tOrdinal0 [0x007BA898+2009240]\n\tOrdinal0 [0x007BA985+2009477]\n\tOrdinal0 [0x007C3AD1+2046673]\n\tBaseThreadInitThunk [0x774BFA29+25]\n\tRtlGetAppContainerNamedObjectPath [0x77E87A9E+286]\n\tRtlGetAppContainerNamedObjectPath [0x77E87A6E+238]\n"
     ]
    }
   ],
   "source": [
    "Ukulele=[] #creating an empty list\n",
    "delay=10 #mentioning the seconds the driver needs to wait\n",
    "WebDriverWait(driver,delay).until(EC.presence_of_element_located((By.CLASS_NAME,'s-pagination-item s-pagination-next s-pagination-button s-pagination-separator')))\n",
    "for i in range(0,8):\n",
    "    Ukulele_Tag=driver.find_elements_by_xpath(\"//h2[@class='a-size-mini a-spacing-none a-color-base s-line-clamp-4']\")\n",
    "    for i in Ukulele_Tag:\n",
    "        Ukulele.append(i.text)\n",
    "    next_button=driver.find_element_by_class_name(\"s-pagination-item s-pagination-next s-pagination-button s-pagination-separator\")\n",
    "    next_button.click()\n"
   ]
  },
  {
   "cell_type": "code",
   "execution_count": null,
   "id": "b6840b42",
   "metadata": {},
   "outputs": [],
   "source": []
  }
 ],
 "metadata": {
  "kernelspec": {
   "display_name": "Python 3 (ipykernel)",
   "language": "python",
   "name": "python3"
  },
  "language_info": {
   "codemirror_mode": {
    "name": "ipython",
    "version": 3
   },
   "file_extension": ".py",
   "mimetype": "text/x-python",
   "name": "python",
   "nbconvert_exporter": "python",
   "pygments_lexer": "ipython3",
   "version": "3.9.7"
  }
 },
 "nbformat": 4,
 "nbformat_minor": 5
}
