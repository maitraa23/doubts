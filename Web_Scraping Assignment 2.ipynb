{
 "cells": [
  {
   "cell_type": "code",
   "execution_count": 1,
   "id": "d46e8ab8",
   "metadata": {},
   "outputs": [
    {
     "name": "stdout",
     "output_type": "stream",
     "text": [
      "Requirement already satisfied: selenium in c:\\users\\arshi maitra\\anaconda3\\lib\\site-packages (4.2.0)\n",
      "Requirement already satisfied: urllib3[secure,socks]~=1.26 in c:\\users\\arshi maitra\\anaconda3\\lib\\site-packages (from selenium) (1.26.7)\n",
      "Requirement already satisfied: trio-websocket~=0.9 in c:\\users\\arshi maitra\\anaconda3\\lib\\site-packages (from selenium) (0.9.2)\n",
      "Requirement already satisfied: trio~=0.17 in c:\\users\\arshi maitra\\anaconda3\\lib\\site-packages (from selenium) (0.20.0)\n",
      "Requirement already satisfied: outcome in c:\\users\\arshi maitra\\anaconda3\\lib\\site-packages (from trio~=0.17->selenium) (1.1.0)\n",
      "Requirement already satisfied: idna in c:\\users\\arshi maitra\\anaconda3\\lib\\site-packages (from trio~=0.17->selenium) (3.2)\n",
      "Requirement already satisfied: async-generator>=1.9 in c:\\users\\arshi maitra\\anaconda3\\lib\\site-packages (from trio~=0.17->selenium) (1.10)\n",
      "Requirement already satisfied: attrs>=19.2.0 in c:\\users\\arshi maitra\\anaconda3\\lib\\site-packages (from trio~=0.17->selenium) (21.2.0)\n",
      "Requirement already satisfied: cffi>=1.14 in c:\\users\\arshi maitra\\anaconda3\\lib\\site-packages (from trio~=0.17->selenium) (1.14.6)\n",
      "Requirement already satisfied: sortedcontainers in c:\\users\\arshi maitra\\anaconda3\\lib\\site-packages (from trio~=0.17->selenium) (2.4.0)\n",
      "Requirement already satisfied: sniffio in c:\\users\\arshi maitra\\anaconda3\\lib\\site-packages (from trio~=0.17->selenium) (1.2.0)\n",
      "Requirement already satisfied: pycparser in c:\\users\\arshi maitra\\anaconda3\\lib\\site-packages (from cffi>=1.14->trio~=0.17->selenium) (2.20)\n",
      "Requirement already satisfied: wsproto>=0.14 in c:\\users\\arshi maitra\\anaconda3\\lib\\site-packages (from trio-websocket~=0.9->selenium) (1.1.0)\n",
      "Requirement already satisfied: pyOpenSSL>=0.14 in c:\\users\\arshi maitra\\anaconda3\\lib\\site-packages (from urllib3[secure,socks]~=1.26->selenium) (21.0.0)\n",
      "Requirement already satisfied: cryptography>=1.3.4 in c:\\users\\arshi maitra\\anaconda3\\lib\\site-packages (from urllib3[secure,socks]~=1.26->selenium) (3.4.8)\n",
      "Requirement already satisfied: certifi in c:\\users\\arshi maitra\\anaconda3\\lib\\site-packages (from urllib3[secure,socks]~=1.26->selenium) (2021.10.8)\n",
      "Requirement already satisfied: PySocks!=1.5.7,<2.0,>=1.5.6 in c:\\users\\arshi maitra\\anaconda3\\lib\\site-packages (from urllib3[secure,socks]~=1.26->selenium) (1.7.1)\n",
      "Requirement already satisfied: six>=1.5.2 in c:\\users\\arshi maitra\\anaconda3\\lib\\site-packages (from pyOpenSSL>=0.14->urllib3[secure,socks]~=1.26->selenium) (1.16.0)\n",
      "Requirement already satisfied: h11<1,>=0.9.0 in c:\\users\\arshi maitra\\anaconda3\\lib\\site-packages (from wsproto>=0.14->trio-websocket~=0.9->selenium) (0.13.0)\n"
     ]
    }
   ],
   "source": [
    "! pip install selenium"
   ]
  },
  {
   "cell_type": "markdown",
   "id": "477a82f3",
   "metadata": {},
   "source": [
    "# Data Analyst"
   ]
  },
  {
   "cell_type": "code",
   "execution_count": 2,
   "id": "33c89d25",
   "metadata": {},
   "outputs": [],
   "source": [
    "import selenium\n",
    "from selenium import webdriver\n",
    "import pandas as pd\n",
    "import warnings\n",
    "warnings.filterwarnings('ignore')\n",
    "import time"
   ]
  },
  {
   "cell_type": "code",
   "execution_count": 3,
   "id": "15fe8142",
   "metadata": {},
   "outputs": [],
   "source": [
    "driver=webdriver.Chrome(r\"C:\\Web_driver\\chromedriver.exe\")"
   ]
  },
  {
   "cell_type": "code",
   "execution_count": 4,
   "id": "30039c33",
   "metadata": {},
   "outputs": [],
   "source": [
    "driver.get(\"https://www.naukri.com/\")"
   ]
  },
  {
   "cell_type": "code",
   "execution_count": 5,
   "id": "8cb86d3b",
   "metadata": {},
   "outputs": [],
   "source": [
    "search_designation=driver.find_element_by_class_name(\"suggestor-input\")\n",
    "search_designation.send_keys(\"Data Analyst\")"
   ]
  },
  {
   "cell_type": "code",
   "execution_count": 6,
   "id": "d62795b1",
   "metadata": {},
   "outputs": [],
   "source": [
    "search_location=driver.find_element_by_xpath(\"/html/body/div/div[2]/div[3]/div/div/div[5]/div/div/div/input\")\n",
    "search_location.send_keys(\"Bangalore\")"
   ]
  },
  {
   "cell_type": "code",
   "execution_count": 7,
   "id": "825cb2e6",
   "metadata": {},
   "outputs": [],
   "source": [
    "search_button=driver.find_element_by_xpath(\"/html/body/div/div[2]/div[3]/div/div/div[6]\")\n",
    "search_button.click()"
   ]
  },
  {
   "cell_type": "code",
   "execution_count": 8,
   "id": "6e78c1ed",
   "metadata": {},
   "outputs": [],
   "source": [
    "Job_Title=[]\n",
    "Company_Name=[]\n",
    "Location=[]\n",
    "Experience=[]"
   ]
  },
  {
   "cell_type": "code",
   "execution_count": 9,
   "id": "c6df0712",
   "metadata": {},
   "outputs": [
    {
     "data": {
      "text/plain": [
       "[<selenium.webdriver.remote.webelement.WebElement (session=\"7a03ea7429aea7ff9a7d333576b2d610\", element=\"7ea3318f-e9f7-4c3e-ad7a-257fa02b9bd7\")>,\n",
       " <selenium.webdriver.remote.webelement.WebElement (session=\"7a03ea7429aea7ff9a7d333576b2d610\", element=\"49d840ed-ed72-40ea-9f89-c730d4cd66fc\")>,\n",
       " <selenium.webdriver.remote.webelement.WebElement (session=\"7a03ea7429aea7ff9a7d333576b2d610\", element=\"af93c18c-84d8-4703-83bb-653344e372e2\")>,\n",
       " <selenium.webdriver.remote.webelement.WebElement (session=\"7a03ea7429aea7ff9a7d333576b2d610\", element=\"3bdcba39-e67d-4301-b84c-c2c229515cda\")>,\n",
       " <selenium.webdriver.remote.webelement.WebElement (session=\"7a03ea7429aea7ff9a7d333576b2d610\", element=\"1c9b952b-43cb-45f4-9ceb-a16b7416cf58\")>,\n",
       " <selenium.webdriver.remote.webelement.WebElement (session=\"7a03ea7429aea7ff9a7d333576b2d610\", element=\"2230dafd-d0de-4683-8ec0-b3b1d5e90d81\")>,\n",
       " <selenium.webdriver.remote.webelement.WebElement (session=\"7a03ea7429aea7ff9a7d333576b2d610\", element=\"9cbd231d-3d0e-4b99-9a29-a66898d0384e\")>,\n",
       " <selenium.webdriver.remote.webelement.WebElement (session=\"7a03ea7429aea7ff9a7d333576b2d610\", element=\"e98d1373-bfae-44a4-b97f-8aadec8b2266\")>,\n",
       " <selenium.webdriver.remote.webelement.WebElement (session=\"7a03ea7429aea7ff9a7d333576b2d610\", element=\"ff1d7b2d-30b2-4c85-9e60-314e2e1e3bd4\")>,\n",
       " <selenium.webdriver.remote.webelement.WebElement (session=\"7a03ea7429aea7ff9a7d333576b2d610\", element=\"30ff419c-9991-4ed8-a91d-44f487d14294\")>]"
      ]
     },
     "execution_count": 9,
     "metadata": {},
     "output_type": "execute_result"
    }
   ],
   "source": [
    "Title_tag=driver.find_elements_by_xpath(\"//a[@class='title fw500 ellipsis']\")\n",
    "Title_tag[0:10]"
   ]
  },
  {
   "cell_type": "code",
   "execution_count": 10,
   "id": "18d9ae71",
   "metadata": {},
   "outputs": [
    {
     "data": {
      "text/plain": [
       "['Data Analyst / Business Analyst',\n",
       " 'data analyst/ data analytics / Business analyst- SQL/Python/SAS',\n",
       " 'Hiring For Data Analyst',\n",
       " 'Data Analyst',\n",
       " 'Senior Data Analyst',\n",
       " 'Data Analyst /Senior Data Analyst/Lead Data Analyst',\n",
       " 'Data Analyst ( Outsourced)',\n",
       " 'Master Data Management Business Analyst',\n",
       " 'Data Analytics and Interpretation Business Analyst',\n",
       " 'Data Analyst (Sales Analytics) - Bangalore']"
      ]
     },
     "execution_count": 10,
     "metadata": {},
     "output_type": "execute_result"
    }
   ],
   "source": [
    "for i in Title_tag:\n",
    "    Job_Title.append(i.text)\n",
    "Job_Title[0:10]"
   ]
  },
  {
   "cell_type": "code",
   "execution_count": 11,
   "id": "3ad91474",
   "metadata": {},
   "outputs": [],
   "source": [
    "Titles=pd.DataFrame(Job_Title)"
   ]
  },
  {
   "cell_type": "code",
   "execution_count": 12,
   "id": "af621ab8",
   "metadata": {},
   "outputs": [
    {
     "data": {
      "text/plain": [
       "[<selenium.webdriver.remote.webelement.WebElement (session=\"7a03ea7429aea7ff9a7d333576b2d610\", element=\"9d68248d-2f3b-4018-ad44-9cc1f40fd4a4\")>,\n",
       " <selenium.webdriver.remote.webelement.WebElement (session=\"7a03ea7429aea7ff9a7d333576b2d610\", element=\"1d20c12e-79dc-4043-88b4-0c2b10171664\")>,\n",
       " <selenium.webdriver.remote.webelement.WebElement (session=\"7a03ea7429aea7ff9a7d333576b2d610\", element=\"e5eecc7e-e6f7-495f-b3c9-2eaf44aaa9f5\")>,\n",
       " <selenium.webdriver.remote.webelement.WebElement (session=\"7a03ea7429aea7ff9a7d333576b2d610\", element=\"458ffffa-37e0-40e5-9d91-d4fe7b128fe8\")>,\n",
       " <selenium.webdriver.remote.webelement.WebElement (session=\"7a03ea7429aea7ff9a7d333576b2d610\", element=\"cfa1cd46-ddf9-4646-98e3-9084f6186117\")>,\n",
       " <selenium.webdriver.remote.webelement.WebElement (session=\"7a03ea7429aea7ff9a7d333576b2d610\", element=\"f71e1d40-351a-4549-b837-e7ed9f114510\")>,\n",
       " <selenium.webdriver.remote.webelement.WebElement (session=\"7a03ea7429aea7ff9a7d333576b2d610\", element=\"c5b722bc-0aa2-426f-a8ec-b32ea3441658\")>,\n",
       " <selenium.webdriver.remote.webelement.WebElement (session=\"7a03ea7429aea7ff9a7d333576b2d610\", element=\"d6e60fc9-afc4-44ab-8c7a-5ffbf8cfb0a9\")>,\n",
       " <selenium.webdriver.remote.webelement.WebElement (session=\"7a03ea7429aea7ff9a7d333576b2d610\", element=\"ac6a90eb-869c-49d1-9296-f4a561ed5fed\")>,\n",
       " <selenium.webdriver.remote.webelement.WebElement (session=\"7a03ea7429aea7ff9a7d333576b2d610\", element=\"2e57af7a-c55c-47bf-985a-dd6de724335c\")>]"
      ]
     },
     "execution_count": 12,
     "metadata": {},
     "output_type": "execute_result"
    }
   ],
   "source": [
    "Company_tag=driver.find_elements_by_xpath(\"//a[@class='subTitle ellipsis fleft']\")\n",
    "Company_tag[0:10]"
   ]
  },
  {
   "cell_type": "code",
   "execution_count": 13,
   "id": "7224ac1c",
   "metadata": {},
   "outputs": [
    {
     "data": {
      "text/plain": [
       "['METRO Cash & Carry',\n",
       " 'Leading US MNC into Analytics',\n",
       " 'Taikee',\n",
       " 'PharmEasy',\n",
       " 'Qualitest India Private Limited',\n",
       " 'Intelliest Technology',\n",
       " 'ONEPLUS TECHNOLOGY INDIA PRIVATE LIMITED',\n",
       " 'Accenture',\n",
       " 'Accenture',\n",
       " 'K12 Techno Services']"
      ]
     },
     "execution_count": 13,
     "metadata": {},
     "output_type": "execute_result"
    }
   ],
   "source": [
    "for i in Company_tag:\n",
    "    Company_Name.append(i.text)\n",
    "Company_Name[0:10]"
   ]
  },
  {
   "cell_type": "code",
   "execution_count": 14,
   "id": "11544907",
   "metadata": {},
   "outputs": [],
   "source": [
    "Company_Names=pd.DataFrame(Company_Name)"
   ]
  },
  {
   "cell_type": "code",
   "execution_count": 15,
   "id": "cbebd8c7",
   "metadata": {},
   "outputs": [
    {
     "data": {
      "text/plain": [
       "[<selenium.webdriver.remote.webelement.WebElement (session=\"7a03ea7429aea7ff9a7d333576b2d610\", element=\"f1137cd7-3394-4a4b-8369-49f690c9e9c1\")>,\n",
       " <selenium.webdriver.remote.webelement.WebElement (session=\"7a03ea7429aea7ff9a7d333576b2d610\", element=\"0c608dca-b497-423d-baed-0d476f6ab8b3\")>,\n",
       " <selenium.webdriver.remote.webelement.WebElement (session=\"7a03ea7429aea7ff9a7d333576b2d610\", element=\"10ea8058-748b-4533-b537-613ea1b3c5e8\")>,\n",
       " <selenium.webdriver.remote.webelement.WebElement (session=\"7a03ea7429aea7ff9a7d333576b2d610\", element=\"0ef4cb82-1582-40dd-b2d1-4c6d3bc843e3\")>,\n",
       " <selenium.webdriver.remote.webelement.WebElement (session=\"7a03ea7429aea7ff9a7d333576b2d610\", element=\"10686a0b-af87-4370-a384-035ed2358e64\")>,\n",
       " <selenium.webdriver.remote.webelement.WebElement (session=\"7a03ea7429aea7ff9a7d333576b2d610\", element=\"aa35165c-0552-4997-b08e-54d22c891c2b\")>,\n",
       " <selenium.webdriver.remote.webelement.WebElement (session=\"7a03ea7429aea7ff9a7d333576b2d610\", element=\"8d8556e7-98a6-4a44-ba13-ae2889dc5544\")>,\n",
       " <selenium.webdriver.remote.webelement.WebElement (session=\"7a03ea7429aea7ff9a7d333576b2d610\", element=\"34ad29df-dc28-44fa-870f-ddf2a48df9c6\")>,\n",
       " <selenium.webdriver.remote.webelement.WebElement (session=\"7a03ea7429aea7ff9a7d333576b2d610\", element=\"d32016ff-e9b4-4951-b32b-16ddb770aeeb\")>,\n",
       " <selenium.webdriver.remote.webelement.WebElement (session=\"7a03ea7429aea7ff9a7d333576b2d610\", element=\"da0b7c3e-59b6-4211-ac2e-b1e95a80bf19\")>]"
      ]
     },
     "execution_count": 15,
     "metadata": {},
     "output_type": "execute_result"
    }
   ],
   "source": [
    "Location_tag=driver.find_elements_by_xpath(\"//li[@class='fleft grey-text br2 placeHolderLi location']/span[1]\")\n",
    "Location_tag[0:10]"
   ]
  },
  {
   "cell_type": "code",
   "execution_count": 16,
   "id": "d02f2d31",
   "metadata": {},
   "outputs": [
    {
     "data": {
      "text/plain": [
       "['Bangalore/Bengaluru',\n",
       " 'Gurgaon/Gurugram, Bangalore/Bengaluru, Delhi / NCR',\n",
       " 'Bangalore/Bengaluru',\n",
       " 'Bangalore/Bengaluru',\n",
       " 'Bangalore/Bengaluru',\n",
       " 'Bangalore/Bengaluru',\n",
       " 'Bangalore/Bengaluru',\n",
       " 'Bangalore/Bengaluru',\n",
       " 'Bangalore/Bengaluru',\n",
       " 'Bangalore/Bengaluru']"
      ]
     },
     "execution_count": 16,
     "metadata": {},
     "output_type": "execute_result"
    }
   ],
   "source": [
    "for i in Location_tag:\n",
    "    Location.append(i.text)\n",
    "Location[0:10]"
   ]
  },
  {
   "cell_type": "code",
   "execution_count": 17,
   "id": "b05cce99",
   "metadata": {},
   "outputs": [],
   "source": [
    "Locations=pd.DataFrame(Location)"
   ]
  },
  {
   "cell_type": "code",
   "execution_count": 18,
   "id": "d6bd3e61",
   "metadata": {},
   "outputs": [
    {
     "data": {
      "text/plain": [
       "[<selenium.webdriver.remote.webelement.WebElement (session=\"7a03ea7429aea7ff9a7d333576b2d610\", element=\"47ea9afb-9666-448b-b8f8-e08736b95403\")>,\n",
       " <selenium.webdriver.remote.webelement.WebElement (session=\"7a03ea7429aea7ff9a7d333576b2d610\", element=\"686b2e4a-eec4-4bf7-ac08-f2de47efe8c5\")>,\n",
       " <selenium.webdriver.remote.webelement.WebElement (session=\"7a03ea7429aea7ff9a7d333576b2d610\", element=\"04be8576-3b6b-420f-90e4-127adc4dc23a\")>,\n",
       " <selenium.webdriver.remote.webelement.WebElement (session=\"7a03ea7429aea7ff9a7d333576b2d610\", element=\"092f6980-3a86-4047-9c19-dc07ee1cb1a5\")>,\n",
       " <selenium.webdriver.remote.webelement.WebElement (session=\"7a03ea7429aea7ff9a7d333576b2d610\", element=\"b3a178a8-1272-4c79-9476-20830e6f2166\")>,\n",
       " <selenium.webdriver.remote.webelement.WebElement (session=\"7a03ea7429aea7ff9a7d333576b2d610\", element=\"7bc3b307-bd8a-4823-938d-ac3676ced167\")>,\n",
       " <selenium.webdriver.remote.webelement.WebElement (session=\"7a03ea7429aea7ff9a7d333576b2d610\", element=\"70909e38-2bec-4ac3-a029-63b0c8f913e0\")>,\n",
       " <selenium.webdriver.remote.webelement.WebElement (session=\"7a03ea7429aea7ff9a7d333576b2d610\", element=\"e2c26475-3bcc-4fe9-bd36-50e64c0a2eed\")>,\n",
       " <selenium.webdriver.remote.webelement.WebElement (session=\"7a03ea7429aea7ff9a7d333576b2d610\", element=\"cc56cf0b-4bc9-45bf-9c71-d252c451f14b\")>,\n",
       " <selenium.webdriver.remote.webelement.WebElement (session=\"7a03ea7429aea7ff9a7d333576b2d610\", element=\"3011df6b-b40d-4ade-bcab-c3f79f224ae7\")>]"
      ]
     },
     "execution_count": 18,
     "metadata": {},
     "output_type": "execute_result"
    }
   ],
   "source": [
    "Experience_tag=driver.find_elements_by_xpath(\"//li[@class='fleft grey-text br2 placeHolderLi experience']/span\")\n",
    "Experience_tag[0:10]"
   ]
  },
  {
   "cell_type": "code",
   "execution_count": 19,
   "id": "1ae6de46",
   "metadata": {},
   "outputs": [
    {
     "data": {
      "text/plain": [
       "['3-8 Yrs',\n",
       " '2-7 Yrs',\n",
       " '2-5 Yrs',\n",
       " '1-3 Yrs',\n",
       " '5-8 Yrs',\n",
       " '3-8 Yrs',\n",
       " '3-5 Yrs',\n",
       " '6-8 Yrs',\n",
       " '6-8 Yrs',\n",
       " '1-6 Yrs']"
      ]
     },
     "execution_count": 19,
     "metadata": {},
     "output_type": "execute_result"
    }
   ],
   "source": [
    "for i in Experience_tag:\n",
    "    Experience.append(i.text)\n",
    "Experience[0:10]"
   ]
  },
  {
   "cell_type": "code",
   "execution_count": 20,
   "id": "35992681",
   "metadata": {},
   "outputs": [],
   "source": [
    "Experiences=pd.DataFrame(Experience)"
   ]
  },
  {
   "cell_type": "code",
   "execution_count": 21,
   "id": "d402d200",
   "metadata": {},
   "outputs": [
    {
     "data": {
      "text/html": [
       "<div>\n",
       "<style scoped>\n",
       "    .dataframe tbody tr th:only-of-type {\n",
       "        vertical-align: middle;\n",
       "    }\n",
       "\n",
       "    .dataframe tbody tr th {\n",
       "        vertical-align: top;\n",
       "    }\n",
       "\n",
       "    .dataframe thead th {\n",
       "        text-align: right;\n",
       "    }\n",
       "</style>\n",
       "<table border=\"1\" class=\"dataframe\">\n",
       "  <thead>\n",
       "    <tr style=\"text-align: right;\">\n",
       "      <th></th>\n",
       "      <th>Job_Title</th>\n",
       "      <th>Company</th>\n",
       "      <th>Location</th>\n",
       "      <th>Experience</th>\n",
       "    </tr>\n",
       "  </thead>\n",
       "  <tbody>\n",
       "    <tr>\n",
       "      <th>0</th>\n",
       "      <td>Data Analyst / Business Analyst</td>\n",
       "      <td>METRO Cash &amp; Carry</td>\n",
       "      <td>Bangalore/Bengaluru</td>\n",
       "      <td>3-8 Yrs</td>\n",
       "    </tr>\n",
       "    <tr>\n",
       "      <th>1</th>\n",
       "      <td>data analyst/ data analytics / Business analys...</td>\n",
       "      <td>Leading US MNC into Analytics</td>\n",
       "      <td>Gurgaon/Gurugram, Bangalore/Bengaluru, Delhi /...</td>\n",
       "      <td>2-7 Yrs</td>\n",
       "    </tr>\n",
       "    <tr>\n",
       "      <th>2</th>\n",
       "      <td>Hiring For Data Analyst</td>\n",
       "      <td>Taikee</td>\n",
       "      <td>Bangalore/Bengaluru</td>\n",
       "      <td>2-5 Yrs</td>\n",
       "    </tr>\n",
       "    <tr>\n",
       "      <th>3</th>\n",
       "      <td>Data Analyst</td>\n",
       "      <td>PharmEasy</td>\n",
       "      <td>Bangalore/Bengaluru</td>\n",
       "      <td>1-3 Yrs</td>\n",
       "    </tr>\n",
       "    <tr>\n",
       "      <th>4</th>\n",
       "      <td>Senior Data Analyst</td>\n",
       "      <td>Qualitest India Private Limited</td>\n",
       "      <td>Bangalore/Bengaluru</td>\n",
       "      <td>5-8 Yrs</td>\n",
       "    </tr>\n",
       "    <tr>\n",
       "      <th>5</th>\n",
       "      <td>Data Analyst /Senior Data Analyst/Lead Data An...</td>\n",
       "      <td>Intelliest Technology</td>\n",
       "      <td>Bangalore/Bengaluru</td>\n",
       "      <td>3-8 Yrs</td>\n",
       "    </tr>\n",
       "    <tr>\n",
       "      <th>6</th>\n",
       "      <td>Data Analyst ( Outsourced)</td>\n",
       "      <td>ONEPLUS TECHNOLOGY INDIA PRIVATE LIMITED</td>\n",
       "      <td>Bangalore/Bengaluru</td>\n",
       "      <td>3-5 Yrs</td>\n",
       "    </tr>\n",
       "    <tr>\n",
       "      <th>7</th>\n",
       "      <td>Master Data Management Business Analyst</td>\n",
       "      <td>Accenture</td>\n",
       "      <td>Bangalore/Bengaluru</td>\n",
       "      <td>6-8 Yrs</td>\n",
       "    </tr>\n",
       "    <tr>\n",
       "      <th>8</th>\n",
       "      <td>Data Analytics and Interpretation Business Ana...</td>\n",
       "      <td>Accenture</td>\n",
       "      <td>Bangalore/Bengaluru</td>\n",
       "      <td>6-8 Yrs</td>\n",
       "    </tr>\n",
       "    <tr>\n",
       "      <th>9</th>\n",
       "      <td>Data Analyst (Sales Analytics) - Bangalore</td>\n",
       "      <td>K12 Techno Services</td>\n",
       "      <td>Bangalore/Bengaluru</td>\n",
       "      <td>1-6 Yrs</td>\n",
       "    </tr>\n",
       "  </tbody>\n",
       "</table>\n",
       "</div>"
      ],
      "text/plain": [
       "                                           Job_Title  \\\n",
       "0                    Data Analyst / Business Analyst   \n",
       "1  data analyst/ data analytics / Business analys...   \n",
       "2                            Hiring For Data Analyst   \n",
       "3                                       Data Analyst   \n",
       "4                                Senior Data Analyst   \n",
       "5  Data Analyst /Senior Data Analyst/Lead Data An...   \n",
       "6                         Data Analyst ( Outsourced)   \n",
       "7            Master Data Management Business Analyst   \n",
       "8  Data Analytics and Interpretation Business Ana...   \n",
       "9         Data Analyst (Sales Analytics) - Bangalore   \n",
       "\n",
       "                                    Company  \\\n",
       "0                        METRO Cash & Carry   \n",
       "1             Leading US MNC into Analytics   \n",
       "2                                    Taikee   \n",
       "3                                 PharmEasy   \n",
       "4           Qualitest India Private Limited   \n",
       "5                     Intelliest Technology   \n",
       "6  ONEPLUS TECHNOLOGY INDIA PRIVATE LIMITED   \n",
       "7                                 Accenture   \n",
       "8                                 Accenture   \n",
       "9                       K12 Techno Services   \n",
       "\n",
       "                                            Location Experience  \n",
       "0                                Bangalore/Bengaluru    3-8 Yrs  \n",
       "1  Gurgaon/Gurugram, Bangalore/Bengaluru, Delhi /...    2-7 Yrs  \n",
       "2                                Bangalore/Bengaluru    2-5 Yrs  \n",
       "3                                Bangalore/Bengaluru    1-3 Yrs  \n",
       "4                                Bangalore/Bengaluru    5-8 Yrs  \n",
       "5                                Bangalore/Bengaluru    3-8 Yrs  \n",
       "6                                Bangalore/Bengaluru    3-5 Yrs  \n",
       "7                                Bangalore/Bengaluru    6-8 Yrs  \n",
       "8                                Bangalore/Bengaluru    6-8 Yrs  \n",
       "9                                Bangalore/Bengaluru    1-6 Yrs  "
      ]
     },
     "execution_count": 21,
     "metadata": {},
     "output_type": "execute_result"
    }
   ],
   "source": [
    "Data_Analyst=pd.concat([Titles,Company_Names,Locations,Experiences],axis=1)\n",
    "Data_Analyst.columns=[\"Job_Title\",\"Company\",\"Location\",\"Experience\"]\n",
    "Data_Analyst.head(10)"
   ]
  },
  {
   "cell_type": "markdown",
   "id": "801f9993",
   "metadata": {},
   "source": [
    "# Data Scientist"
   ]
  },
  {
   "cell_type": "code",
   "execution_count": 22,
   "id": "08cd6e5a",
   "metadata": {},
   "outputs": [],
   "source": [
    "driver.get(\"https://www.naukri.com/\")"
   ]
  },
  {
   "cell_type": "code",
   "execution_count": 23,
   "id": "25bdb9d8",
   "metadata": {},
   "outputs": [],
   "source": [
    "search_designation=driver.find_element_by_xpath(\"/html/body/div/div[2]/div[3]/div/div/div[1]/div/div/div/input\")\n",
    "search_designation.send_keys(\"Data Scientist\")"
   ]
  },
  {
   "cell_type": "code",
   "execution_count": 24,
   "id": "b6e58749",
   "metadata": {},
   "outputs": [],
   "source": [
    "search_location=driver.find_element_by_xpath(\"/html/body/div/div[2]/div[3]/div/div/div[5]/div/div/div/input\")\n",
    "search_location.send_keys(\"Bangalore\")"
   ]
  },
  {
   "cell_type": "code",
   "execution_count": 25,
   "id": "9d15aa40",
   "metadata": {},
   "outputs": [],
   "source": [
    "search_button=driver.find_element_by_xpath(\"/html/body/div/div[2]/div[3]/div/div/div[6]\")\n",
    "search_button.click()"
   ]
  },
  {
   "cell_type": "code",
   "execution_count": 26,
   "id": "2e86989d",
   "metadata": {},
   "outputs": [],
   "source": [
    "Job_Title=[]\n",
    "Company_Name=[]\n",
    "Location=[]\n",
    "Experience=[]"
   ]
  },
  {
   "cell_type": "code",
   "execution_count": 27,
   "id": "abed032d",
   "metadata": {},
   "outputs": [
    {
     "data": {
      "text/plain": [
       "[<selenium.webdriver.remote.webelement.WebElement (session=\"7a03ea7429aea7ff9a7d333576b2d610\", element=\"3ae48336-b48a-4bcd-b3f6-a30eb59badc1\")>,\n",
       " <selenium.webdriver.remote.webelement.WebElement (session=\"7a03ea7429aea7ff9a7d333576b2d610\", element=\"280a9970-31dc-47ac-bdfa-701eab33edec\")>,\n",
       " <selenium.webdriver.remote.webelement.WebElement (session=\"7a03ea7429aea7ff9a7d333576b2d610\", element=\"ddc346a8-3b25-463a-808b-d7c6a031b1e0\")>,\n",
       " <selenium.webdriver.remote.webelement.WebElement (session=\"7a03ea7429aea7ff9a7d333576b2d610\", element=\"bc1de226-5726-4c1a-a3bc-64e7907ae6ad\")>,\n",
       " <selenium.webdriver.remote.webelement.WebElement (session=\"7a03ea7429aea7ff9a7d333576b2d610\", element=\"fbe0256d-3fce-4618-93f7-47ad50b051a7\")>,\n",
       " <selenium.webdriver.remote.webelement.WebElement (session=\"7a03ea7429aea7ff9a7d333576b2d610\", element=\"74df1be2-5e55-4f7d-89b6-383571670873\")>,\n",
       " <selenium.webdriver.remote.webelement.WebElement (session=\"7a03ea7429aea7ff9a7d333576b2d610\", element=\"1863edfc-8e4d-434d-aec7-6bb094f086ce\")>,\n",
       " <selenium.webdriver.remote.webelement.WebElement (session=\"7a03ea7429aea7ff9a7d333576b2d610\", element=\"ffb54a64-ff24-4d8a-bc9e-0354a999787e\")>,\n",
       " <selenium.webdriver.remote.webelement.WebElement (session=\"7a03ea7429aea7ff9a7d333576b2d610\", element=\"15f71aff-11b8-4783-b6b3-11e77e43db22\")>,\n",
       " <selenium.webdriver.remote.webelement.WebElement (session=\"7a03ea7429aea7ff9a7d333576b2d610\", element=\"8c53cd49-753a-490d-8f07-d37cc07e35ad\")>]"
      ]
     },
     "execution_count": 27,
     "metadata": {},
     "output_type": "execute_result"
    }
   ],
   "source": [
    "Title_tag=driver.find_elements_by_xpath(\"//a[@class='title fw500 ellipsis']\")\n",
    "Title_tag[0:10]"
   ]
  },
  {
   "cell_type": "code",
   "execution_count": 28,
   "id": "40010040",
   "metadata": {},
   "outputs": [
    {
     "data": {
      "text/plain": [
       "['AI Technologist Vacancy',\n",
       " 'Job Opening with Wipro For Data Scientist position',\n",
       " 'Data Scientist',\n",
       " 'Data Scientist - Immediate Joiners',\n",
       " 'Data Scientist- AI/ML- R&D',\n",
       " 'Urgent Hiring For AI Data Scientist',\n",
       " 'Data Scientist',\n",
       " 'Data Scientist',\n",
       " 'Data Scientist',\n",
       " 'Data Science Expert - Quality & Test Engineering']"
      ]
     },
     "execution_count": 28,
     "metadata": {},
     "output_type": "execute_result"
    }
   ],
   "source": [
    "for i in Title_tag:\n",
    "    Job_Title.append(i.text)\n",
    "Job_Title[0:10]"
   ]
  },
  {
   "cell_type": "code",
   "execution_count": 29,
   "id": "6966aff6",
   "metadata": {},
   "outputs": [],
   "source": [
    "Job_Titles=pd.DataFrame(Job_Title)"
   ]
  },
  {
   "cell_type": "code",
   "execution_count": 30,
   "id": "7ec6d185",
   "metadata": {},
   "outputs": [
    {
     "data": {
      "text/plain": [
       "[<selenium.webdriver.remote.webelement.WebElement (session=\"7a03ea7429aea7ff9a7d333576b2d610\", element=\"a1ac5d03-7201-4e31-9bc9-59978f6564b3\")>,\n",
       " <selenium.webdriver.remote.webelement.WebElement (session=\"7a03ea7429aea7ff9a7d333576b2d610\", element=\"e99e2aa3-a73a-4eb8-84a8-5f9dd85ab9c2\")>,\n",
       " <selenium.webdriver.remote.webelement.WebElement (session=\"7a03ea7429aea7ff9a7d333576b2d610\", element=\"f0a7cf9c-f956-4778-9498-fdd4f2b76c48\")>,\n",
       " <selenium.webdriver.remote.webelement.WebElement (session=\"7a03ea7429aea7ff9a7d333576b2d610\", element=\"cfb08af6-a56a-4caf-867d-8a7a565f3c2f\")>,\n",
       " <selenium.webdriver.remote.webelement.WebElement (session=\"7a03ea7429aea7ff9a7d333576b2d610\", element=\"ff473d18-37f9-4e85-b184-a5aa7bf5963a\")>,\n",
       " <selenium.webdriver.remote.webelement.WebElement (session=\"7a03ea7429aea7ff9a7d333576b2d610\", element=\"098d4fe2-e5fc-4348-abc6-6883847f279b\")>,\n",
       " <selenium.webdriver.remote.webelement.WebElement (session=\"7a03ea7429aea7ff9a7d333576b2d610\", element=\"87fd3c71-c095-4d68-80aa-6698fd7b8baf\")>,\n",
       " <selenium.webdriver.remote.webelement.WebElement (session=\"7a03ea7429aea7ff9a7d333576b2d610\", element=\"fef285d3-aeac-4884-807d-dd5a4e57fd7a\")>,\n",
       " <selenium.webdriver.remote.webelement.WebElement (session=\"7a03ea7429aea7ff9a7d333576b2d610\", element=\"027240e2-8eec-4c11-ba4a-7781468af816\")>,\n",
       " <selenium.webdriver.remote.webelement.WebElement (session=\"7a03ea7429aea7ff9a7d333576b2d610\", element=\"c21e3afb-bbe5-4c38-84fc-00bb6556c403\")>]"
      ]
     },
     "execution_count": 30,
     "metadata": {},
     "output_type": "execute_result"
    }
   ],
   "source": [
    "Company_tag=driver.find_elements_by_xpath(\"//a[@class='subTitle ellipsis fleft']\")\n",
    "Company_tag[0:10]"
   ]
  },
  {
   "cell_type": "code",
   "execution_count": 31,
   "id": "242c2c55",
   "metadata": {},
   "outputs": [
    {
     "data": {
      "text/plain": [
       "['Wipro',\n",
       " 'Wipro',\n",
       " 'Genpact',\n",
       " 'Bristlecone',\n",
       " 'EXL',\n",
       " 'Ashkom Media India Private Limited',\n",
       " 'UPL',\n",
       " 'UPL',\n",
       " 'Jacobs',\n",
       " 'SAP']"
      ]
     },
     "execution_count": 31,
     "metadata": {},
     "output_type": "execute_result"
    }
   ],
   "source": [
    "for i in Company_tag:\n",
    "    Company_Name.append(i.text)\n",
    "Company_Name[0:10]"
   ]
  },
  {
   "cell_type": "code",
   "execution_count": 32,
   "id": "b81e2768",
   "metadata": {},
   "outputs": [],
   "source": [
    "Companies=pd.DataFrame(Company_Name)"
   ]
  },
  {
   "cell_type": "code",
   "execution_count": 33,
   "id": "0536fc46",
   "metadata": {},
   "outputs": [
    {
     "data": {
      "text/plain": [
       "[<selenium.webdriver.remote.webelement.WebElement (session=\"7a03ea7429aea7ff9a7d333576b2d610\", element=\"a549c889-680c-41f3-8e8c-4684de67ee49\")>,\n",
       " <selenium.webdriver.remote.webelement.WebElement (session=\"7a03ea7429aea7ff9a7d333576b2d610\", element=\"96e4cc0e-feb8-4448-b94d-9a2d79718e05\")>,\n",
       " <selenium.webdriver.remote.webelement.WebElement (session=\"7a03ea7429aea7ff9a7d333576b2d610\", element=\"663e96b9-bad8-409a-ad76-ec7fa9e7eff1\")>,\n",
       " <selenium.webdriver.remote.webelement.WebElement (session=\"7a03ea7429aea7ff9a7d333576b2d610\", element=\"7d3056c0-5a12-4d24-80bb-8b5e9491b0aa\")>,\n",
       " <selenium.webdriver.remote.webelement.WebElement (session=\"7a03ea7429aea7ff9a7d333576b2d610\", element=\"67447566-ab33-4945-b6d8-362133f140cb\")>,\n",
       " <selenium.webdriver.remote.webelement.WebElement (session=\"7a03ea7429aea7ff9a7d333576b2d610\", element=\"1825f857-0630-47c3-8036-f2e639a15269\")>,\n",
       " <selenium.webdriver.remote.webelement.WebElement (session=\"7a03ea7429aea7ff9a7d333576b2d610\", element=\"f6781858-38ed-4cf9-be81-0f1d12e89632\")>,\n",
       " <selenium.webdriver.remote.webelement.WebElement (session=\"7a03ea7429aea7ff9a7d333576b2d610\", element=\"50d135b6-8f53-4814-ab33-c6ee748d6f83\")>,\n",
       " <selenium.webdriver.remote.webelement.WebElement (session=\"7a03ea7429aea7ff9a7d333576b2d610\", element=\"b9257d03-74c9-4668-a57c-2584f10758c8\")>,\n",
       " <selenium.webdriver.remote.webelement.WebElement (session=\"7a03ea7429aea7ff9a7d333576b2d610\", element=\"ed0c5ea2-c3a1-435e-8f23-df1bf8fcc3ae\")>]"
      ]
     },
     "execution_count": 33,
     "metadata": {},
     "output_type": "execute_result"
    }
   ],
   "source": [
    "Location_tag=driver.find_elements_by_xpath(\"//li[@class='fleft grey-text br2 placeHolderLi location']/span\")\n",
    "Location_tag[0:10]"
   ]
  },
  {
   "cell_type": "code",
   "execution_count": 34,
   "id": "00ac3f72",
   "metadata": {},
   "outputs": [
    {
     "data": {
      "text/plain": [
       "['Kolkata, Hyderabad/Secunderabad, Pune, Ahmedabad, Chennai, Bangalore/Bengaluru, Delhi / NCR, Mumbai (All Areas)',\n",
       " 'Kolkata, Hyderabad/Secunderabad, Chennai, Bangalore/Bengaluru, Delhi / NCR, Mumbai (All Areas)',\n",
       " 'Hyderabad/Secunderabad, Bangalore/Bengaluru, Delhi / NCR',\n",
       " 'Noida, Mumbai, Pune, Bangalore/Bengaluru',\n",
       " 'Noida, Hyderabad/Secunderabad, Pune, Gurgaon/Gurugram, Chennai, Bangalore/Bengaluru, Delhi / NCR',\n",
       " 'New Delhi, Bangalore/Bengaluru, Mumbai (All Areas)',\n",
       " '(WFH during Covid)',\n",
       " 'Mumbai, Bangalore/Bengaluru',\n",
       " 'Bangalore/Bengaluru, Mumbai (All Areas)',\n",
       " 'Bangalore/Bengaluru, Delhi / NCR, Mumbai (All Areas)']"
      ]
     },
     "execution_count": 34,
     "metadata": {},
     "output_type": "execute_result"
    }
   ],
   "source": [
    "for i in Location_tag:\n",
    "    Location.append(i.text)\n",
    "Location[0:10]"
   ]
  },
  {
   "cell_type": "code",
   "execution_count": 35,
   "id": "b95bf1ec",
   "metadata": {},
   "outputs": [],
   "source": [
    "Locations=pd.DataFrame(Location)"
   ]
  },
  {
   "cell_type": "code",
   "execution_count": 36,
   "id": "f2ed4dbd",
   "metadata": {},
   "outputs": [
    {
     "data": {
      "text/plain": [
       "[<selenium.webdriver.remote.webelement.WebElement (session=\"7a03ea7429aea7ff9a7d333576b2d610\", element=\"d8fd68a2-fc08-431d-8035-be2b60e8dadc\")>,\n",
       " <selenium.webdriver.remote.webelement.WebElement (session=\"7a03ea7429aea7ff9a7d333576b2d610\", element=\"7f9cd2af-59ac-4e02-bd3b-28edd67ea0db\")>,\n",
       " <selenium.webdriver.remote.webelement.WebElement (session=\"7a03ea7429aea7ff9a7d333576b2d610\", element=\"5461758a-5476-4d24-9cc7-ed8460769ad2\")>,\n",
       " <selenium.webdriver.remote.webelement.WebElement (session=\"7a03ea7429aea7ff9a7d333576b2d610\", element=\"1e76a568-2d39-415a-b242-b4c146ddd707\")>,\n",
       " <selenium.webdriver.remote.webelement.WebElement (session=\"7a03ea7429aea7ff9a7d333576b2d610\", element=\"3e3cbdaa-574b-4b54-b961-6fd800eb7328\")>,\n",
       " <selenium.webdriver.remote.webelement.WebElement (session=\"7a03ea7429aea7ff9a7d333576b2d610\", element=\"5a9a1045-b5e4-4f0f-8aab-3dd59d550536\")>,\n",
       " <selenium.webdriver.remote.webelement.WebElement (session=\"7a03ea7429aea7ff9a7d333576b2d610\", element=\"64a678ef-0c67-47ff-b4c3-d0f1b725ea93\")>,\n",
       " <selenium.webdriver.remote.webelement.WebElement (session=\"7a03ea7429aea7ff9a7d333576b2d610\", element=\"8b9a08ea-1907-47b7-8804-131fad6f145a\")>,\n",
       " <selenium.webdriver.remote.webelement.WebElement (session=\"7a03ea7429aea7ff9a7d333576b2d610\", element=\"db5d92e0-0969-419e-9ec2-44161f7c95c9\")>,\n",
       " <selenium.webdriver.remote.webelement.WebElement (session=\"7a03ea7429aea7ff9a7d333576b2d610\", element=\"5b432300-ba19-440d-9e0f-024c2ff973bd\")>]"
      ]
     },
     "execution_count": 36,
     "metadata": {},
     "output_type": "execute_result"
    }
   ],
   "source": [
    "Experience_tag=driver.find_elements_by_xpath(\"//li[@class='fleft grey-text br2 placeHolderLi experience']/span\")\n",
    "Experience_tag[0:10]"
   ]
  },
  {
   "cell_type": "code",
   "execution_count": 37,
   "id": "8daeb7b5",
   "metadata": {},
   "outputs": [
    {
     "data": {
      "text/plain": [
       "['6-11 Yrs',\n",
       " '2-7 Yrs',\n",
       " '5-8 Yrs',\n",
       " '5-8 Yrs',\n",
       " '2-6 Yrs',\n",
       " '1-4 Yrs',\n",
       " '2-7 Yrs',\n",
       " '1-4 Yrs',\n",
       " '3-5 Yrs',\n",
       " '12-16 Yrs']"
      ]
     },
     "execution_count": 37,
     "metadata": {},
     "output_type": "execute_result"
    }
   ],
   "source": [
    "for i in Experience_tag:\n",
    "    Experience.append(i.text)\n",
    "Experience[0:10]\n"
   ]
  },
  {
   "cell_type": "code",
   "execution_count": 38,
   "id": "e0397e5d",
   "metadata": {},
   "outputs": [],
   "source": [
    "Experiences=pd.DataFrame(Experience)"
   ]
  },
  {
   "cell_type": "code",
   "execution_count": 39,
   "id": "69edc34d",
   "metadata": {},
   "outputs": [
    {
     "data": {
      "text/html": [
       "<div>\n",
       "<style scoped>\n",
       "    .dataframe tbody tr th:only-of-type {\n",
       "        vertical-align: middle;\n",
       "    }\n",
       "\n",
       "    .dataframe tbody tr th {\n",
       "        vertical-align: top;\n",
       "    }\n",
       "\n",
       "    .dataframe thead th {\n",
       "        text-align: right;\n",
       "    }\n",
       "</style>\n",
       "<table border=\"1\" class=\"dataframe\">\n",
       "  <thead>\n",
       "    <tr style=\"text-align: right;\">\n",
       "      <th></th>\n",
       "      <th>Job Title</th>\n",
       "      <th>Company_Name</th>\n",
       "      <th>Location</th>\n",
       "      <th>Experience</th>\n",
       "    </tr>\n",
       "  </thead>\n",
       "  <tbody>\n",
       "    <tr>\n",
       "      <th>0</th>\n",
       "      <td>AI Technologist Vacancy</td>\n",
       "      <td>Wipro</td>\n",
       "      <td>Kolkata, Hyderabad/Secunderabad, Pune, Ahmedab...</td>\n",
       "      <td>6-11 Yrs</td>\n",
       "    </tr>\n",
       "    <tr>\n",
       "      <th>1</th>\n",
       "      <td>Job Opening with Wipro For Data Scientist posi...</td>\n",
       "      <td>Wipro</td>\n",
       "      <td>Kolkata, Hyderabad/Secunderabad, Chennai, Bang...</td>\n",
       "      <td>2-7 Yrs</td>\n",
       "    </tr>\n",
       "    <tr>\n",
       "      <th>2</th>\n",
       "      <td>Data Scientist</td>\n",
       "      <td>Genpact</td>\n",
       "      <td>Hyderabad/Secunderabad, Bangalore/Bengaluru, D...</td>\n",
       "      <td>5-8 Yrs</td>\n",
       "    </tr>\n",
       "    <tr>\n",
       "      <th>3</th>\n",
       "      <td>Data Scientist - Immediate Joiners</td>\n",
       "      <td>Bristlecone</td>\n",
       "      <td>Noida, Mumbai, Pune, Bangalore/Bengaluru</td>\n",
       "      <td>5-8 Yrs</td>\n",
       "    </tr>\n",
       "    <tr>\n",
       "      <th>4</th>\n",
       "      <td>Data Scientist- AI/ML- R&amp;D</td>\n",
       "      <td>EXL</td>\n",
       "      <td>Noida, Hyderabad/Secunderabad, Pune, Gurgaon/G...</td>\n",
       "      <td>2-6 Yrs</td>\n",
       "    </tr>\n",
       "    <tr>\n",
       "      <th>5</th>\n",
       "      <td>Urgent Hiring For AI Data Scientist</td>\n",
       "      <td>Ashkom Media India Private Limited</td>\n",
       "      <td>New Delhi, Bangalore/Bengaluru, Mumbai (All Ar...</td>\n",
       "      <td>1-4 Yrs</td>\n",
       "    </tr>\n",
       "    <tr>\n",
       "      <th>6</th>\n",
       "      <td>Data Scientist</td>\n",
       "      <td>UPL</td>\n",
       "      <td>(WFH during Covid)</td>\n",
       "      <td>2-7 Yrs</td>\n",
       "    </tr>\n",
       "    <tr>\n",
       "      <th>7</th>\n",
       "      <td>Data Scientist</td>\n",
       "      <td>UPL</td>\n",
       "      <td>Mumbai, Bangalore/Bengaluru</td>\n",
       "      <td>1-4 Yrs</td>\n",
       "    </tr>\n",
       "    <tr>\n",
       "      <th>8</th>\n",
       "      <td>Data Scientist</td>\n",
       "      <td>Jacobs</td>\n",
       "      <td>Bangalore/Bengaluru, Mumbai (All Areas)</td>\n",
       "      <td>3-5 Yrs</td>\n",
       "    </tr>\n",
       "    <tr>\n",
       "      <th>9</th>\n",
       "      <td>Data Science Expert - Quality &amp; Test Engineering</td>\n",
       "      <td>SAP</td>\n",
       "      <td>Bangalore/Bengaluru, Delhi / NCR, Mumbai (All ...</td>\n",
       "      <td>12-16 Yrs</td>\n",
       "    </tr>\n",
       "  </tbody>\n",
       "</table>\n",
       "</div>"
      ],
      "text/plain": [
       "                                           Job Title  \\\n",
       "0                            AI Technologist Vacancy   \n",
       "1  Job Opening with Wipro For Data Scientist posi...   \n",
       "2                                     Data Scientist   \n",
       "3                 Data Scientist - Immediate Joiners   \n",
       "4                         Data Scientist- AI/ML- R&D   \n",
       "5                Urgent Hiring For AI Data Scientist   \n",
       "6                                     Data Scientist   \n",
       "7                                     Data Scientist   \n",
       "8                                     Data Scientist   \n",
       "9   Data Science Expert - Quality & Test Engineering   \n",
       "\n",
       "                         Company_Name  \\\n",
       "0                               Wipro   \n",
       "1                               Wipro   \n",
       "2                             Genpact   \n",
       "3                         Bristlecone   \n",
       "4                                 EXL   \n",
       "5  Ashkom Media India Private Limited   \n",
       "6                                 UPL   \n",
       "7                                 UPL   \n",
       "8                              Jacobs   \n",
       "9                                 SAP   \n",
       "\n",
       "                                            Location Experience  \n",
       "0  Kolkata, Hyderabad/Secunderabad, Pune, Ahmedab...   6-11 Yrs  \n",
       "1  Kolkata, Hyderabad/Secunderabad, Chennai, Bang...    2-7 Yrs  \n",
       "2  Hyderabad/Secunderabad, Bangalore/Bengaluru, D...    5-8 Yrs  \n",
       "3           Noida, Mumbai, Pune, Bangalore/Bengaluru    5-8 Yrs  \n",
       "4  Noida, Hyderabad/Secunderabad, Pune, Gurgaon/G...    2-6 Yrs  \n",
       "5  New Delhi, Bangalore/Bengaluru, Mumbai (All Ar...    1-4 Yrs  \n",
       "6                                 (WFH during Covid)    2-7 Yrs  \n",
       "7                        Mumbai, Bangalore/Bengaluru    1-4 Yrs  \n",
       "8            Bangalore/Bengaluru, Mumbai (All Areas)    3-5 Yrs  \n",
       "9  Bangalore/Bengaluru, Delhi / NCR, Mumbai (All ...  12-16 Yrs  "
      ]
     },
     "execution_count": 39,
     "metadata": {},
     "output_type": "execute_result"
    }
   ],
   "source": [
    "Data_Scientist=pd.concat([Job_Titles,Companies,Locations,Experiences],axis=1)\n",
    "Data_Scientist.columns=[\"Job Title\",\"Company_Name\",\"Location\",\"Experience\"]\n",
    "Data_Scientist.head(10)"
   ]
  },
  {
   "cell_type": "markdown",
   "id": "2e2c142d",
   "metadata": {},
   "source": [
    "# Data Scientist_Using Filters"
   ]
  },
  {
   "cell_type": "code",
   "execution_count": 40,
   "id": "7246e0fa",
   "metadata": {},
   "outputs": [],
   "source": [
    "driver.get(\"https://www.naukri.com/\")"
   ]
  },
  {
   "cell_type": "code",
   "execution_count": 41,
   "id": "0c70e1b3",
   "metadata": {},
   "outputs": [],
   "source": [
    "search_designation=driver.find_element_by_xpath(\"/html/body/div/div[2]/div[3]/div/div/div[1]/div/div/div/input\")\n",
    "search_designation.send_keys(\"Data Scientist\")"
   ]
  },
  {
   "cell_type": "code",
   "execution_count": 42,
   "id": "e8343d3a",
   "metadata": {},
   "outputs": [],
   "source": [
    "search_button=driver.find_element_by_xpath(\"/html/body/div/div[2]/div[3]/div/div/div[6]\")\n",
    "search_button.click()"
   ]
  },
  {
   "cell_type": "code",
   "execution_count": 43,
   "id": "48c72eae",
   "metadata": {},
   "outputs": [],
   "source": [
    "Location_Filter=driver.find_element_by_xpath(\"/html/body/div[1]/div[3]/div[2]/section[1]/div[2]/div[5]/div[2]/div[3]/label/p/span[1]\")\n",
    "Location_Filter.click()"
   ]
  },
  {
   "cell_type": "code",
   "execution_count": 45,
   "id": "fb827fc2",
   "metadata": {},
   "outputs": [],
   "source": [
    "Salary_Filter=driver.find_element_by_xpath(\"/html/body/div[1]/div[3]/div[2]/section[1]/div[2]/div[6]/div[2]/div[2]/label/p/span[1]\")\n",
    "Salary_Filter.click()"
   ]
  },
  {
   "cell_type": "code",
   "execution_count": 46,
   "id": "ca6c78ed",
   "metadata": {},
   "outputs": [],
   "source": [
    "Job_Title=[]\n",
    "Company_Name=[]\n",
    "Location=[]\n",
    "Experience=[]"
   ]
  },
  {
   "cell_type": "code",
   "execution_count": 47,
   "id": "14306380",
   "metadata": {},
   "outputs": [
    {
     "data": {
      "text/plain": [
       "[<selenium.webdriver.remote.webelement.WebElement (session=\"7a03ea7429aea7ff9a7d333576b2d610\", element=\"8ea10954-d7d5-4d09-81d3-577c346bb573\")>,\n",
       " <selenium.webdriver.remote.webelement.WebElement (session=\"7a03ea7429aea7ff9a7d333576b2d610\", element=\"e4046a69-c24d-4298-b195-839fd9736907\")>,\n",
       " <selenium.webdriver.remote.webelement.WebElement (session=\"7a03ea7429aea7ff9a7d333576b2d610\", element=\"27945823-573a-4a4d-b4c3-65c70ec69168\")>,\n",
       " <selenium.webdriver.remote.webelement.WebElement (session=\"7a03ea7429aea7ff9a7d333576b2d610\", element=\"3c93a043-a912-4a08-9301-db35a5b8c60b\")>,\n",
       " <selenium.webdriver.remote.webelement.WebElement (session=\"7a03ea7429aea7ff9a7d333576b2d610\", element=\"44a4c5de-3dc2-4db5-9936-3942f118bf3b\")>,\n",
       " <selenium.webdriver.remote.webelement.WebElement (session=\"7a03ea7429aea7ff9a7d333576b2d610\", element=\"a21ae046-57fd-4721-bdb5-4ea0334dafdf\")>,\n",
       " <selenium.webdriver.remote.webelement.WebElement (session=\"7a03ea7429aea7ff9a7d333576b2d610\", element=\"18a7031e-e5d1-47fa-9015-2a33e447dafd\")>,\n",
       " <selenium.webdriver.remote.webelement.WebElement (session=\"7a03ea7429aea7ff9a7d333576b2d610\", element=\"a63ec009-95d3-49c4-8434-a025b67cb883\")>,\n",
       " <selenium.webdriver.remote.webelement.WebElement (session=\"7a03ea7429aea7ff9a7d333576b2d610\", element=\"62aee0ff-c95f-4f68-b58a-cd3b2c3aa483\")>,\n",
       " <selenium.webdriver.remote.webelement.WebElement (session=\"7a03ea7429aea7ff9a7d333576b2d610\", element=\"daeb34fd-3b2d-43e3-8fd6-7bb72e85ba65\")>]"
      ]
     },
     "execution_count": 47,
     "metadata": {},
     "output_type": "execute_result"
    }
   ],
   "source": [
    "Title_tag=driver.find_elements_by_xpath(\"//a[@class='title fw500 ellipsis']\")\n",
    "Title_tag[0:10]"
   ]
  },
  {
   "cell_type": "code",
   "execution_count": 48,
   "id": "a69b0a1e",
   "metadata": {},
   "outputs": [
    {
     "data": {
      "text/plain": [
       "['Job Opening with Wipro For Data Scientist position',\n",
       " 'Data Scientist',\n",
       " 'Data Scientist -Machine Learning with Python',\n",
       " 'Data Scientist - Predictive Analytics',\n",
       " 'Data Scientist - Machine learning AI',\n",
       " 'Data Scientist - MIND Infotech',\n",
       " 'Data Scientist - MIND Infotech',\n",
       " 'Data Scientist - Internet Jobs - II',\n",
       " 'Machine Learning Engineer | Data Engineer | Data Scientist',\n",
       " 'Data Scientist (Python) Immediate Joiners']"
      ]
     },
     "execution_count": 48,
     "metadata": {},
     "output_type": "execute_result"
    }
   ],
   "source": [
    "for i in Title_tag:\n",
    "    Job_Title.append(i.text)\n",
    "    \n",
    "Job_Title[0:10]\n",
    "    "
   ]
  },
  {
   "cell_type": "code",
   "execution_count": 49,
   "id": "118926ef",
   "metadata": {},
   "outputs": [],
   "source": [
    "Job_Titles=pd.DataFrame(Job_Title)"
   ]
  },
  {
   "cell_type": "code",
   "execution_count": 50,
   "id": "f6aab065",
   "metadata": {},
   "outputs": [
    {
     "data": {
      "text/plain": [
       "[<selenium.webdriver.remote.webelement.WebElement (session=\"7a03ea7429aea7ff9a7d333576b2d610\", element=\"2dd406f1-fb72-4144-a427-b77ca0b9cb87\")>,\n",
       " <selenium.webdriver.remote.webelement.WebElement (session=\"7a03ea7429aea7ff9a7d333576b2d610\", element=\"933b0ff2-89c5-4c62-b512-d06cc21cf8b3\")>,\n",
       " <selenium.webdriver.remote.webelement.WebElement (session=\"7a03ea7429aea7ff9a7d333576b2d610\", element=\"39b97040-b571-4ef0-91d9-ca3bb2a784b6\")>,\n",
       " <selenium.webdriver.remote.webelement.WebElement (session=\"7a03ea7429aea7ff9a7d333576b2d610\", element=\"0de35cc3-660e-40d0-8548-6af48110ee7a\")>,\n",
       " <selenium.webdriver.remote.webelement.WebElement (session=\"7a03ea7429aea7ff9a7d333576b2d610\", element=\"ab1be8be-ba2f-4cb8-b2b5-d20eb499199d\")>,\n",
       " <selenium.webdriver.remote.webelement.WebElement (session=\"7a03ea7429aea7ff9a7d333576b2d610\", element=\"e8613898-3823-4306-b994-80d4bfcd1d4e\")>,\n",
       " <selenium.webdriver.remote.webelement.WebElement (session=\"7a03ea7429aea7ff9a7d333576b2d610\", element=\"322e9fd4-54bd-49d3-950a-d2d54824a167\")>,\n",
       " <selenium.webdriver.remote.webelement.WebElement (session=\"7a03ea7429aea7ff9a7d333576b2d610\", element=\"00eeacf5-ff33-4b83-a5f4-5adf154cf702\")>,\n",
       " <selenium.webdriver.remote.webelement.WebElement (session=\"7a03ea7429aea7ff9a7d333576b2d610\", element=\"abd95a31-8789-43a2-b836-ab7bd4562ee1\")>,\n",
       " <selenium.webdriver.remote.webelement.WebElement (session=\"7a03ea7429aea7ff9a7d333576b2d610\", element=\"e0f30b7d-49da-4e5f-9af8-ed6cedb1bc81\")>]"
      ]
     },
     "execution_count": 50,
     "metadata": {},
     "output_type": "execute_result"
    }
   ],
   "source": [
    "Company_tag=driver.find_elements_by_xpath(\"//a[@class='subTitle ellipsis fleft']\")\n",
    "Company_tag[0:10]"
   ]
  },
  {
   "cell_type": "code",
   "execution_count": 51,
   "id": "95a82d8c",
   "metadata": {},
   "outputs": [
    {
     "data": {
      "text/plain": [
       "['Wipro',\n",
       " 'SS Supply Chain Solutions Pvt. Ltd. (3SC)',\n",
       " 'Genpact',\n",
       " 'Confidential',\n",
       " 'Teq Analytics',\n",
       " 'MOTHERSONSUMI INFOTECH & DESIGNS LIMITED',\n",
       " 'MOTHERSONSUMI INFOTECH & DESIGNS LIMITED',\n",
       " 'Jobs Territory',\n",
       " 'Tidyquant (OPC) Private Limited',\n",
       " 'Om Software Internet Solutions Private Limited']"
      ]
     },
     "execution_count": 51,
     "metadata": {},
     "output_type": "execute_result"
    }
   ],
   "source": [
    "for i in Company_tag:\n",
    "    Company_Name.append(i.text)\n",
    "    \n",
    "Company_Name[0:10]"
   ]
  },
  {
   "cell_type": "code",
   "execution_count": 52,
   "id": "ca8c293c",
   "metadata": {},
   "outputs": [],
   "source": [
    "Company_Names=pd.DataFrame(Company_Name)"
   ]
  },
  {
   "cell_type": "code",
   "execution_count": 53,
   "id": "2d3aa3e0",
   "metadata": {},
   "outputs": [
    {
     "data": {
      "text/plain": [
       "[<selenium.webdriver.remote.webelement.WebElement (session=\"7a03ea7429aea7ff9a7d333576b2d610\", element=\"f9ed29c5-09e6-4115-ba13-9d981eba9c69\")>,\n",
       " <selenium.webdriver.remote.webelement.WebElement (session=\"7a03ea7429aea7ff9a7d333576b2d610\", element=\"52511e4c-6bcf-482e-b7e8-4ae940a90dce\")>,\n",
       " <selenium.webdriver.remote.webelement.WebElement (session=\"7a03ea7429aea7ff9a7d333576b2d610\", element=\"72e6ef98-0675-43ac-9eec-750291cee146\")>,\n",
       " <selenium.webdriver.remote.webelement.WebElement (session=\"7a03ea7429aea7ff9a7d333576b2d610\", element=\"eb106c41-c16e-4e9b-b951-8def5d1d64f5\")>,\n",
       " <selenium.webdriver.remote.webelement.WebElement (session=\"7a03ea7429aea7ff9a7d333576b2d610\", element=\"59485902-0d2e-463e-92fe-6a2634957da3\")>,\n",
       " <selenium.webdriver.remote.webelement.WebElement (session=\"7a03ea7429aea7ff9a7d333576b2d610\", element=\"7d61c495-5e19-4db7-91f4-5ef5123fe99a\")>,\n",
       " <selenium.webdriver.remote.webelement.WebElement (session=\"7a03ea7429aea7ff9a7d333576b2d610\", element=\"b3b1f6b0-df33-458c-b82a-d3cbd7a47f7e\")>,\n",
       " <selenium.webdriver.remote.webelement.WebElement (session=\"7a03ea7429aea7ff9a7d333576b2d610\", element=\"0b70b01b-c1ca-42ce-8ed7-a508690bd5c3\")>,\n",
       " <selenium.webdriver.remote.webelement.WebElement (session=\"7a03ea7429aea7ff9a7d333576b2d610\", element=\"5bb27de5-86c3-460c-b74b-d148c64aa07b\")>,\n",
       " <selenium.webdriver.remote.webelement.WebElement (session=\"7a03ea7429aea7ff9a7d333576b2d610\", element=\"b795260b-5c20-480b-b9f6-197313d7baa5\")>]"
      ]
     },
     "execution_count": 53,
     "metadata": {},
     "output_type": "execute_result"
    }
   ],
   "source": [
    "Location_tag=driver.find_elements_by_xpath(\"//li[@class='fleft grey-text br2 placeHolderLi location']/span[1]\")\n",
    "Location_tag[0:10]"
   ]
  },
  {
   "cell_type": "code",
   "execution_count": 54,
   "id": "4756230b",
   "metadata": {},
   "outputs": [
    {
     "data": {
      "text/plain": [
       "['Kolkata, Hyderabad/Secunderabad, Chennai, Bangalore/Bengaluru, Delhi / NCR, Mumbai (All Areas)',\n",
       " 'Pune, Gurgaon/Gurugram, Bangalore/Bengaluru',\n",
       " 'Noida, New Delhi, Gurgaon/Gurugram, Delhi / NCR',\n",
       " 'Noida, Mumbai, Chandigarh, Hyderabad/Secunderabad, Pune, Chennai, Gurgaon/Gurugram, Coimbatore, Bangalore/Bengaluru',\n",
       " 'Bangalore/Bengaluru, Delhi / NCR, Mumbai (All Areas)',\n",
       " 'Noida',\n",
       " 'Noida',\n",
       " 'Bangalore/Bengaluru, Delhi / NCR, Mumbai (All Areas)',\n",
       " 'Chennai, Bangalore/Bengaluru, Delhi / NCR(Sector-8 Noida)',\n",
       " 'Noida, Pune, Ahmedabad']"
      ]
     },
     "execution_count": 54,
     "metadata": {},
     "output_type": "execute_result"
    }
   ],
   "source": [
    "for i in Location_tag:\n",
    "    Location.append(i.text)\n",
    "Location[0:10]"
   ]
  },
  {
   "cell_type": "code",
   "execution_count": 55,
   "id": "b796513f",
   "metadata": {},
   "outputs": [],
   "source": [
    "Locations=pd.DataFrame(Location)"
   ]
  },
  {
   "cell_type": "code",
   "execution_count": 56,
   "id": "0dd6bbc2",
   "metadata": {},
   "outputs": [
    {
     "data": {
      "text/plain": [
       "[<selenium.webdriver.remote.webelement.WebElement (session=\"7a03ea7429aea7ff9a7d333576b2d610\", element=\"7a3dd24b-097c-41d6-aff3-62ef1acc87e6\")>,\n",
       " <selenium.webdriver.remote.webelement.WebElement (session=\"7a03ea7429aea7ff9a7d333576b2d610\", element=\"01addb72-87c4-467d-8a73-78b8d0448d6c\")>,\n",
       " <selenium.webdriver.remote.webelement.WebElement (session=\"7a03ea7429aea7ff9a7d333576b2d610\", element=\"cea00e15-8203-4c78-9c78-a4f03b1f6b8f\")>,\n",
       " <selenium.webdriver.remote.webelement.WebElement (session=\"7a03ea7429aea7ff9a7d333576b2d610\", element=\"cba5b378-95b0-4ad3-9127-6f49b6fa25f2\")>,\n",
       " <selenium.webdriver.remote.webelement.WebElement (session=\"7a03ea7429aea7ff9a7d333576b2d610\", element=\"e0656584-c76e-4e34-a981-27af157042e1\")>,\n",
       " <selenium.webdriver.remote.webelement.WebElement (session=\"7a03ea7429aea7ff9a7d333576b2d610\", element=\"8d8d8070-be77-4913-9fb5-704e10477c91\")>,\n",
       " <selenium.webdriver.remote.webelement.WebElement (session=\"7a03ea7429aea7ff9a7d333576b2d610\", element=\"0a7a5f17-95b0-487e-b49f-b70782de2537\")>,\n",
       " <selenium.webdriver.remote.webelement.WebElement (session=\"7a03ea7429aea7ff9a7d333576b2d610\", element=\"183fafd2-3b92-4253-a0a0-8fd4d20005b3\")>,\n",
       " <selenium.webdriver.remote.webelement.WebElement (session=\"7a03ea7429aea7ff9a7d333576b2d610\", element=\"894ce2d0-66be-488b-934b-958866e3bf33\")>,\n",
       " <selenium.webdriver.remote.webelement.WebElement (session=\"7a03ea7429aea7ff9a7d333576b2d610\", element=\"9988b5b3-9a31-459f-b194-46fb3a52ab24\")>]"
      ]
     },
     "execution_count": 56,
     "metadata": {},
     "output_type": "execute_result"
    }
   ],
   "source": [
    "Experience_Tag=driver.find_elements_by_xpath(\"//li[@class='fleft grey-text br2 placeHolderLi experience']/span\")\n",
    "Experience_Tag[0:10]"
   ]
  },
  {
   "cell_type": "code",
   "execution_count": 57,
   "id": "807e0c12",
   "metadata": {},
   "outputs": [
    {
     "data": {
      "text/plain": [
       "['2-7 Yrs',\n",
       " '2-5 Yrs',\n",
       " '1-4 Yrs',\n",
       " '1-6 Yrs',\n",
       " '3-8 Yrs',\n",
       " '4-8 Yrs',\n",
       " '4-8 Yrs',\n",
       " '3-6 Yrs',\n",
       " '1-3 Yrs',\n",
       " '1-4 Yrs']"
      ]
     },
     "execution_count": 57,
     "metadata": {},
     "output_type": "execute_result"
    }
   ],
   "source": [
    "for i in Experience_Tag:\n",
    "    Experience.append(i.text)\n",
    "Experience[0:10]"
   ]
  },
  {
   "cell_type": "code",
   "execution_count": 58,
   "id": "f505fef3",
   "metadata": {},
   "outputs": [],
   "source": [
    "Experiences=pd.DataFrame(Experience)"
   ]
  },
  {
   "cell_type": "code",
   "execution_count": 59,
   "id": "00353a0a",
   "metadata": {},
   "outputs": [
    {
     "data": {
      "text/html": [
       "<div>\n",
       "<style scoped>\n",
       "    .dataframe tbody tr th:only-of-type {\n",
       "        vertical-align: middle;\n",
       "    }\n",
       "\n",
       "    .dataframe tbody tr th {\n",
       "        vertical-align: top;\n",
       "    }\n",
       "\n",
       "    .dataframe thead th {\n",
       "        text-align: right;\n",
       "    }\n",
       "</style>\n",
       "<table border=\"1\" class=\"dataframe\">\n",
       "  <thead>\n",
       "    <tr style=\"text-align: right;\">\n",
       "      <th></th>\n",
       "      <th>Job_Title</th>\n",
       "      <th>Company_Name</th>\n",
       "      <th>Location</th>\n",
       "      <th>Experience</th>\n",
       "    </tr>\n",
       "  </thead>\n",
       "  <tbody>\n",
       "    <tr>\n",
       "      <th>0</th>\n",
       "      <td>Job Opening with Wipro For Data Scientist posi...</td>\n",
       "      <td>Wipro</td>\n",
       "      <td>Kolkata, Hyderabad/Secunderabad, Chennai, Bang...</td>\n",
       "      <td>2-7 Yrs</td>\n",
       "    </tr>\n",
       "    <tr>\n",
       "      <th>1</th>\n",
       "      <td>Data Scientist</td>\n",
       "      <td>SS Supply Chain Solutions Pvt. Ltd. (3SC)</td>\n",
       "      <td>Pune, Gurgaon/Gurugram, Bangalore/Bengaluru</td>\n",
       "      <td>2-5 Yrs</td>\n",
       "    </tr>\n",
       "    <tr>\n",
       "      <th>2</th>\n",
       "      <td>Data Scientist -Machine Learning with Python</td>\n",
       "      <td>Genpact</td>\n",
       "      <td>Noida, New Delhi, Gurgaon/Gurugram, Delhi / NCR</td>\n",
       "      <td>1-4 Yrs</td>\n",
       "    </tr>\n",
       "    <tr>\n",
       "      <th>3</th>\n",
       "      <td>Data Scientist - Predictive Analytics</td>\n",
       "      <td>Confidential</td>\n",
       "      <td>Noida, Mumbai, Chandigarh, Hyderabad/Secundera...</td>\n",
       "      <td>1-6 Yrs</td>\n",
       "    </tr>\n",
       "    <tr>\n",
       "      <th>4</th>\n",
       "      <td>Data Scientist - Machine learning AI</td>\n",
       "      <td>Teq Analytics</td>\n",
       "      <td>Bangalore/Bengaluru, Delhi / NCR, Mumbai (All ...</td>\n",
       "      <td>3-8 Yrs</td>\n",
       "    </tr>\n",
       "    <tr>\n",
       "      <th>5</th>\n",
       "      <td>Data Scientist - MIND Infotech</td>\n",
       "      <td>MOTHERSONSUMI INFOTECH &amp; DESIGNS LIMITED</td>\n",
       "      <td>Noida</td>\n",
       "      <td>4-8 Yrs</td>\n",
       "    </tr>\n",
       "    <tr>\n",
       "      <th>6</th>\n",
       "      <td>Data Scientist - MIND Infotech</td>\n",
       "      <td>MOTHERSONSUMI INFOTECH &amp; DESIGNS LIMITED</td>\n",
       "      <td>Noida</td>\n",
       "      <td>4-8 Yrs</td>\n",
       "    </tr>\n",
       "    <tr>\n",
       "      <th>7</th>\n",
       "      <td>Data Scientist - Internet Jobs - II</td>\n",
       "      <td>Jobs Territory</td>\n",
       "      <td>Bangalore/Bengaluru, Delhi / NCR, Mumbai (All ...</td>\n",
       "      <td>3-6 Yrs</td>\n",
       "    </tr>\n",
       "    <tr>\n",
       "      <th>8</th>\n",
       "      <td>Machine Learning Engineer | Data Engineer | Da...</td>\n",
       "      <td>Tidyquant (OPC) Private Limited</td>\n",
       "      <td>Chennai, Bangalore/Bengaluru, Delhi / NCR(Sect...</td>\n",
       "      <td>1-3 Yrs</td>\n",
       "    </tr>\n",
       "    <tr>\n",
       "      <th>9</th>\n",
       "      <td>Data Scientist (Python) Immediate Joiners</td>\n",
       "      <td>Om Software Internet Solutions Private Limited</td>\n",
       "      <td>Noida, Pune, Ahmedabad</td>\n",
       "      <td>1-4 Yrs</td>\n",
       "    </tr>\n",
       "  </tbody>\n",
       "</table>\n",
       "</div>"
      ],
      "text/plain": [
       "                                           Job_Title  \\\n",
       "0  Job Opening with Wipro For Data Scientist posi...   \n",
       "1                                     Data Scientist   \n",
       "2       Data Scientist -Machine Learning with Python   \n",
       "3              Data Scientist - Predictive Analytics   \n",
       "4               Data Scientist - Machine learning AI   \n",
       "5                     Data Scientist - MIND Infotech   \n",
       "6                     Data Scientist - MIND Infotech   \n",
       "7                Data Scientist - Internet Jobs - II   \n",
       "8  Machine Learning Engineer | Data Engineer | Da...   \n",
       "9          Data Scientist (Python) Immediate Joiners   \n",
       "\n",
       "                                     Company_Name  \\\n",
       "0                                           Wipro   \n",
       "1       SS Supply Chain Solutions Pvt. Ltd. (3SC)   \n",
       "2                                         Genpact   \n",
       "3                                    Confidential   \n",
       "4                                   Teq Analytics   \n",
       "5        MOTHERSONSUMI INFOTECH & DESIGNS LIMITED   \n",
       "6        MOTHERSONSUMI INFOTECH & DESIGNS LIMITED   \n",
       "7                                  Jobs Territory   \n",
       "8                 Tidyquant (OPC) Private Limited   \n",
       "9  Om Software Internet Solutions Private Limited   \n",
       "\n",
       "                                            Location Experience  \n",
       "0  Kolkata, Hyderabad/Secunderabad, Chennai, Bang...    2-7 Yrs  \n",
       "1        Pune, Gurgaon/Gurugram, Bangalore/Bengaluru    2-5 Yrs  \n",
       "2    Noida, New Delhi, Gurgaon/Gurugram, Delhi / NCR    1-4 Yrs  \n",
       "3  Noida, Mumbai, Chandigarh, Hyderabad/Secundera...    1-6 Yrs  \n",
       "4  Bangalore/Bengaluru, Delhi / NCR, Mumbai (All ...    3-8 Yrs  \n",
       "5                                              Noida    4-8 Yrs  \n",
       "6                                              Noida    4-8 Yrs  \n",
       "7  Bangalore/Bengaluru, Delhi / NCR, Mumbai (All ...    3-6 Yrs  \n",
       "8  Chennai, Bangalore/Bengaluru, Delhi / NCR(Sect...    1-3 Yrs  \n",
       "9                             Noida, Pune, Ahmedabad    1-4 Yrs  "
      ]
     },
     "execution_count": 59,
     "metadata": {},
     "output_type": "execute_result"
    }
   ],
   "source": [
    "Filter=pd.concat([Job_Titles,Company_Names,Locations,Experiences],axis=1)\n",
    "Filter.columns=[\"Job_Title\",\"Company_Name\",\"Location\",\"Experience\"]\n",
    "Filter.head(10)"
   ]
  },
  {
   "cell_type": "markdown",
   "id": "83636d74",
   "metadata": {},
   "source": [
    "# Flipkart_Sunglass"
   ]
  },
  {
   "cell_type": "code",
   "execution_count": 60,
   "id": "26497620",
   "metadata": {},
   "outputs": [],
   "source": [
    "driver.get(\"https://www.flipkart.com/\")"
   ]
  },
  {
   "cell_type": "code",
   "execution_count": 61,
   "id": "43e9f8c4",
   "metadata": {},
   "outputs": [],
   "source": [
    "search_designation=driver.find_element_by_xpath(\"/html/body/div[1]/div/div[1]/div[1]/div[2]/div[2]/form/div/div/input\")\n",
    "search_designation.send_keys(\"sunglasses\")"
   ]
  },
  {
   "cell_type": "code",
   "execution_count": 63,
   "id": "3efb99b4",
   "metadata": {},
   "outputs": [],
   "source": [
    "search_button=driver.find_element_by_class_name(\"L0Z3Pu\")\n",
    "search_button.click()"
   ]
  },
  {
   "cell_type": "code",
   "execution_count": 65,
   "id": "95ae6b0f",
   "metadata": {},
   "outputs": [],
   "source": [
    "Brand=[]\n",
    "for i in range(0,3):\n",
    "    Brand_Tag=driver.find_elements_by_xpath(\"//div[ @class='_2WkVRV']\")\n",
    "    for i in Brand_Tag:\n",
    "        Brand.append(i.text)\n",
    "    next_button=driver.find_element_by_xpath(\"/html/body/div[1]/div/div[3]/div[1]/div[2]/div[12]/div/div/nav/a[11]\")\n",
    "    next_button.click()\n",
    "    time.sleep(5)\n",
    "        \n",
    "    \n",
    "    "
   ]
  },
  {
   "cell_type": "code",
   "execution_count": 66,
   "id": "122f72bd",
   "metadata": {},
   "outputs": [
    {
     "data": {
      "text/plain": [
       "['Ray-Ban',\n",
       " 'Ray-Ban',\n",
       " 'Mi',\n",
       " 'Fastrack',\n",
       " 'Mi',\n",
       " 'Fastrack',\n",
       " 'Elligator',\n",
       " 'Ray-Ban',\n",
       " 'SRPM',\n",
       " 'New Specs',\n",
       " 'PIRASO',\n",
       " 'Ray-Ban',\n",
       " 'PIRASO',\n",
       " 'Fastrack',\n",
       " 'ROZZETTA CRAFT',\n",
       " 'Ray-Ban',\n",
       " 'Mi',\n",
       " 'PIRASO',\n",
       " 'PIRASO',\n",
       " 'Ray-Ban',\n",
       " 'SUNBEE',\n",
       " 'Lee Topper',\n",
       " 'United Colors of Benetton',\n",
       " 'Ray-Ban',\n",
       " 'ROZZETTA CRAFT',\n",
       " 'United Colors of Benetton',\n",
       " 'SHAAH COLLECTIONS',\n",
       " 'Ray-Ban',\n",
       " 'ROZZETTA CRAFT',\n",
       " 'Fastrack',\n",
       " 'PIRASO',\n",
       " 'Ray-Ban',\n",
       " 'SHAAH COLLECTIONS',\n",
       " 'PIRASO',\n",
       " 'New Specs',\n",
       " 'Ray-Ban',\n",
       " 'SUNBEE',\n",
       " 'AISLIN',\n",
       " 'ROZZETTA CRAFT',\n",
       " 'ROZZETTA CRAFT',\n",
       " 'SRPM',\n",
       " 'Fastrack',\n",
       " 'Fastrack',\n",
       " 'GANSTA',\n",
       " 'AISLIN',\n",
       " 'ROYAL SON',\n",
       " 'Fastrack',\n",
       " 'VINCENT CHASE',\n",
       " 'ROZZETTA CRAFT',\n",
       " 'kingsunglasses',\n",
       " 'PHENOMENAL',\n",
       " 'ROZZETTA CRAFT',\n",
       " 'New Specs',\n",
       " 'Elligator',\n",
       " 'Fastrack',\n",
       " 'Ray-Ban',\n",
       " 'PHENOMENAL',\n",
       " 'Lee Topper',\n",
       " 'ROYAL SON',\n",
       " 'ROYAL SON',\n",
       " 'VINCENT CHASE',\n",
       " 'AISLIN',\n",
       " 'kingsunglasses',\n",
       " 'ROYAL SON',\n",
       " 'Roadster',\n",
       " 'kingsunglasses',\n",
       " 'Fastrack',\n",
       " 'Arnette',\n",
       " 'ROZZETTA CRAFT',\n",
       " 'kingsunglasses',\n",
       " 'kingsunglasses',\n",
       " 'Ray-Ban',\n",
       " 'New Specs',\n",
       " 'ROZZETTA CRAFT',\n",
       " 'Singco India',\n",
       " 'ROYAL SON',\n",
       " 'Lee Topper',\n",
       " 'Urbanic',\n",
       " 'ROZZETTA CRAFT',\n",
       " 'VINCENT CHASE',\n",
       " 'PIRASO',\n",
       " 'GANSTA',\n",
       " 'AISLIN',\n",
       " 'ROYAL SON',\n",
       " 'VINCENT CHASE',\n",
       " 'elegante',\n",
       " 'AISLIN',\n",
       " 'ROYAL SON',\n",
       " 'Ray-Ban',\n",
       " 'kingsunglasses',\n",
       " 'ROYAL SON',\n",
       " 'VINCENT CHASE',\n",
       " 'Elligator',\n",
       " 'Fastrack',\n",
       " 'elegante',\n",
       " 'VINCENT CHASE',\n",
       " 'hipe',\n",
       " 'Fastrack',\n",
       " 'AISLIN',\n",
       " 'ROZZETTA CRAFT']"
      ]
     },
     "execution_count": 66,
     "metadata": {},
     "output_type": "execute_result"
    }
   ],
   "source": [
    "Brand[0:100]"
   ]
  },
  {
   "cell_type": "code",
   "execution_count": 67,
   "id": "3972c512",
   "metadata": {},
   "outputs": [],
   "source": [
    "Brands=pd.DataFrame(Brand)"
   ]
  },
  {
   "cell_type": "code",
   "execution_count": 68,
   "id": "e3de191a",
   "metadata": {},
   "outputs": [],
   "source": [
    "Product_Description=[]\n",
    "for i in range(0,2):\n",
    "    Product_Tag=driver.find_elements_by_xpath(\"//a[@class='IRpwTa']\")\n",
    "    for i in Product_Tag:\n",
    "           Product_Description.append(i.text)\n",
    "    next_button=driver.find_element_by_xpath(\"/html/body/div[1]/div/div[3]/div[1]/div[2]/div[12]/div/div/nav/a[11]\")\n",
    "    next_button.click()\n",
    "    time.sleep(5)"
   ]
  },
  {
   "cell_type": "code",
   "execution_count": 69,
   "id": "063111fd",
   "metadata": {},
   "outputs": [
    {
     "data": {
      "text/plain": [
       "['UV Protection Retro Square Sunglasses (55)',\n",
       " 'UV Protection Wayfarer Sunglasses (Free Size)',\n",
       " 'by Lenskart Polarized, UV Protection Aviator Sunglasses...',\n",
       " 'UV Protection, Night Vision, Riding Glasses Aviator Sun...',\n",
       " 'UV Protection Retro Square Sunglasses (54)',\n",
       " 'UV Protection Over-sized Sunglasses (60)',\n",
       " 'UV Protection Over-sized Sunglasses (Free Size)',\n",
       " 'Gradient Aviator Sunglasses (55)',\n",
       " 'Polarized, UV Protection Retro Square Sunglasses (62)',\n",
       " 'UV Protection, Gradient Cat-eye Sunglasses (59)',\n",
       " 'UV Protection Over-sized, Retro Square Sunglasses (64)',\n",
       " 'UV Protection Aviator Sunglasses (Free Size)',\n",
       " 'UV Protection, Gradient Cat-eye Sunglasses (58)',\n",
       " 'UV Protection Round Sunglasses (Free Size)',\n",
       " 'UV Protection Oval, Aviator Sunglasses (60)',\n",
       " 'Mirrored, UV Protection Round Sunglasses (Free Size)',\n",
       " 'UV Protection Wayfarer Sunglasses (54)',\n",
       " 'UV Protection Retro Square Sunglasses (50)',\n",
       " 'UV Protection, Night Vision, Riding Glasses Wayfarer, W...',\n",
       " 'UV Protection, Gradient Oval Sunglasses (58)',\n",
       " 'UV Protection Wayfarer Sunglasses (56)',\n",
       " 'UV Protection, Mirrored Clubmaster Sunglasses (53)',\n",
       " 'UV Protection, Polarized Wrap-around, Sports Sunglasses...',\n",
       " 'Polarized, Riding Glasses Sports, Wrap-around Sunglasse...',\n",
       " 'UV Protection, Gradient Butterfly, Over-sized Sunglasse...',\n",
       " 'UV Protection Retro Square Sunglasses (60)',\n",
       " 'UV Protection Round Sunglasses (53)',\n",
       " 'UV Protection, Gradient Butterfly, Shield Sunglasses (6...',\n",
       " 'UV Protection, Gradient Cat-eye, Oval Sunglasses (61)',\n",
       " 'UV Protection Wayfarer Sunglasses (55)',\n",
       " 'UV Protection Wayfarer Sunglasses (53)',\n",
       " 'UV Protection, Riding Glasses Wayfarer Sunglasses (53)',\n",
       " 'UV Protection Round, Oval Sunglasses (54)',\n",
       " 'UV Protection, Gradient Over-sized Sunglasses (62)',\n",
       " 'UV Protection Rectangular, Retro Square Sunglasses (55)',\n",
       " 'UV Protection Wayfarer Sunglasses (54)',\n",
       " 'UV Protection Retro Square Sunglasses (Free Size)',\n",
       " 'UV Protection Clubmaster Sunglasses (53)',\n",
       " 'UV Protection Oval Sunglasses (Free Size)',\n",
       " 'UV Protection, Gradient Butterfly, Shield Sunglasses (6...',\n",
       " 'UV Protection, Night Vision Wayfarer Sunglasses (Free S...',\n",
       " 'UV Protection Clubmaster Sunglasses (51)',\n",
       " 'UV Protection Round, Oval, Cat-eye Sunglasses (56)',\n",
       " 'Night Vision, Riding Glasses Wayfarer Sunglasses (53)',\n",
       " 'Polarized, UV Protection Round Sunglasses (52)',\n",
       " 'UV Protection Round Sunglasses (Free Size)',\n",
       " 'Toughened Glass Lens, UV Protection Wayfarer, Rectangul...',\n",
       " 'UV Protection Butterfly, Over-sized Sunglasses (62)',\n",
       " 'UV Protection Round Sunglasses (54)',\n",
       " 'UV Protection, Gradient Butterfly, Over-sized Sunglasse...',\n",
       " 'UV Protection Retro Square Sunglasses (Free Size)',\n",
       " 'Mirrored Rectangular Sunglasses (58)',\n",
       " 'UV Protection Oval Sunglasses (70)',\n",
       " 'Toughened Glass Lens, UV Protection Round Sunglasses (5...',\n",
       " 'UV Protection, Polarized Wrap-around, Sports Sunglasses...',\n",
       " 'UV Protection, Night Vision Wayfarer Sunglasses (52)',\n",
       " 'UV Protection, Gradient, Riding Glasses Retro Square Su...',\n",
       " 'UV Protection Rectangular Sunglasses (52)',\n",
       " 'Gradient Round Sunglasses (58)',\n",
       " 'UV Protection Round Sunglasses (Free Size)',\n",
       " 'Polarized, UV Protection, Riding Glasses Wayfarer, Rect...',\n",
       " 'UV Protection Wayfarer Sunglasses (46)',\n",
       " 'Gradient Cat-eye Sunglasses (55)',\n",
       " 'Polarized, Riding Glasses Sports, Wrap-around Sunglasse...',\n",
       " 'UV Protection Oval, Aviator Sunglasses (58)',\n",
       " 'UV Protection, Gradient Butterfly Sunglasses (52)',\n",
       " 'UV Protection Aviator Sunglasses (57)',\n",
       " 'UV Protection Round Sunglasses (50)',\n",
       " 'UV Protection Oval, Aviator Sunglasses (62)',\n",
       " 'UV Protection Over-sized Sunglasses (61)',\n",
       " 'UV Protection Sports Sunglasses (65)',\n",
       " 'Mirrored Aviator Sunglasses (Free Size)',\n",
       " 'UV Protection Oval Sunglasses (63)',\n",
       " 'UV Protection, Gradient Over-sized, Butterfly Sunglasse...',\n",
       " 'UV Protection, Gradient, Riding Glasses Wayfarer Sungla...',\n",
       " 'UV Protection, Gradient Round Sunglasses (58)',\n",
       " 'UV Protection Rectangular Sunglasses (Free Size)',\n",
       " 'by Lenskart Polarized, UV Protection Aviator Sunglasses...']"
      ]
     },
     "execution_count": 69,
     "metadata": {},
     "output_type": "execute_result"
    }
   ],
   "source": [
    "Product_Description[0:100]"
   ]
  },
  {
   "cell_type": "code",
   "execution_count": 70,
   "id": "0607e79f",
   "metadata": {},
   "outputs": [],
   "source": [
    "Product_Descriptions=pd.DataFrame(Product_Description)"
   ]
  },
  {
   "cell_type": "code",
   "execution_count": 81,
   "id": "73d939f5",
   "metadata": {},
   "outputs": [],
   "source": [
    "Price=[]\n",
    "for i in range(0,3):\n",
    "    Price_Tag=driver.find_elements_by_xpath(\"//div[@class='_30jeq3']\")\n",
    "    for i in Price_Tag:\n",
    "           Price.append(i.text)\n",
    "    next_button=driver.find_element_by_xpath(\"/html/body/div[1]/div/div[3]/div[1]/div[2]/div[12]/div/div/nav/a[11]\")\n",
    "    next_button.click()\n",
    "    time.sleep(5)\n"
   ]
  },
  {
   "cell_type": "code",
   "execution_count": 82,
   "id": "17ff12eb",
   "metadata": {},
   "outputs": [
    {
     "data": {
      "text/plain": [
       "['₹2,639',\n",
       " '₹1,008',\n",
       " '₹649',\n",
       " '₹649',\n",
       " '₹639',\n",
       " '₹699',\n",
       " '₹199',\n",
       " '₹242',\n",
       " '₹280',\n",
       " '₹265',\n",
       " '₹199',\n",
       " '₹486',\n",
       " '₹319',\n",
       " '₹989',\n",
       " '₹599',\n",
       " '₹531',\n",
       " '₹449',\n",
       " '₹219',\n",
       " '₹199',\n",
       " '₹599',\n",
       " '₹283',\n",
       " '₹739',\n",
       " '₹299',\n",
       " '₹279',\n",
       " '₹449',\n",
       " '₹669',\n",
       " '₹314',\n",
       " '₹559',\n",
       " '₹195',\n",
       " '₹629',\n",
       " '₹410',\n",
       " '₹449',\n",
       " '₹272',\n",
       " '₹279',\n",
       " '₹259',\n",
       " '₹249',\n",
       " '₹299',\n",
       " '₹449',\n",
       " '₹639',\n",
       " '₹559',\n",
       " '₹759',\n",
       " '₹287',\n",
       " '₹387',\n",
       " '₹250',\n",
       " '₹2,549',\n",
       " '₹699',\n",
       " '₹307',\n",
       " '₹215',\n",
       " '₹899',\n",
       " '₹213',\n",
       " '₹599',\n",
       " '₹449',\n",
       " '₹207',\n",
       " '₹359',\n",
       " '₹387',\n",
       " '₹449',\n",
       " '₹279',\n",
       " '₹195',\n",
       " '₹449',\n",
       " '₹1,145',\n",
       " '₹341',\n",
       " '₹265',\n",
       " '₹332',\n",
       " '₹215',\n",
       " '₹531',\n",
       " '₹1,025',\n",
       " '₹206',\n",
       " '₹279',\n",
       " '₹330',\n",
       " '₹720',\n",
       " '₹683',\n",
       " '₹215',\n",
       " '₹195',\n",
       " '₹681',\n",
       " '₹269',\n",
       " '₹228',\n",
       " '₹329',\n",
       " '₹189',\n",
       " '₹359',\n",
       " '₹322',\n",
       " '₹372',\n",
       " '₹398',\n",
       " '₹231',\n",
       " '₹559',\n",
       " '₹776',\n",
       " '₹499',\n",
       " '₹215',\n",
       " '₹504',\n",
       " '₹720',\n",
       " '₹233',\n",
       " '₹699',\n",
       " '₹369',\n",
       " '₹299',\n",
       " '₹390',\n",
       " '₹599',\n",
       " '₹369',\n",
       " '₹248',\n",
       " '₹1,599',\n",
       " '₹179',\n",
       " '₹501']"
      ]
     },
     "execution_count": 82,
     "metadata": {},
     "output_type": "execute_result"
    }
   ],
   "source": [
    "Price[0:100]"
   ]
  },
  {
   "cell_type": "code",
   "execution_count": 86,
   "id": "9926388e",
   "metadata": {},
   "outputs": [],
   "source": [
    "Prices=pd.DataFrame(Price)"
   ]
  },
  {
   "cell_type": "code",
   "execution_count": 83,
   "id": "91afeab3",
   "metadata": {},
   "outputs": [],
   "source": [
    "Discount=[]\n",
    "for i in range(0,3):\n",
    "    Discount_Tag=driver.find_elements_by_xpath(\"//div[@class='_3Ay6Sb']\")\n",
    "    for i in Discount_Tag:\n",
    "           Discount.append(i.text)\n",
    "    next_button=driver.find_element_by_xpath(\"/html/body/div[1]/div/div[3]/div[1]/div[2]/div[12]/div/div/nav/a[11]\")\n",
    "    next_button.click()\n",
    "    time.sleep(5)"
   ]
  },
  {
   "cell_type": "code",
   "execution_count": 84,
   "id": "866d420c",
   "metadata": {},
   "outputs": [
    {
     "data": {
      "text/plain": [
       "['45% off',\n",
       " '20% off',\n",
       " '45% off',\n",
       " '30% off',\n",
       " '84% off',\n",
       " '88% off',\n",
       " '87% off',\n",
       " '87% off',\n",
       " '86% off',\n",
       " '23% off',\n",
       " '77% off',\n",
       " '86% off',\n",
       " '87% off',\n",
       " '78% off',\n",
       " '81% off',\n",
       " '79% off',\n",
       " '81% off',\n",
       " '84% off',\n",
       " '88% off',\n",
       " '21% off',\n",
       " '84% off',\n",
       " '89% off',\n",
       " '78% off',\n",
       " '81% off',\n",
       " '80% off',\n",
       " '80% off',\n",
       " '74% off',\n",
       " '20% off',\n",
       " '54% off',\n",
       " '15% off',\n",
       " '88% off',\n",
       " '53% off',\n",
       " '30% off',\n",
       " '22% off',\n",
       " '25% off',\n",
       " '79% off',\n",
       " '76% off',\n",
       " '74% off',\n",
       " '86% off',\n",
       " '79% off',\n",
       " '83% off',\n",
       " '21% off',\n",
       " '82% off',\n",
       " '89% off',\n",
       " '79% off',\n",
       " '73% off',\n",
       " '83% off',\n",
       " '84% off',\n",
       " '65% off',\n",
       " '80% off',\n",
       " '63% off',\n",
       " '88% off',\n",
       " '81% off',\n",
       " '82% off',\n",
       " '55% off',\n",
       " '86% off',\n",
       " '79% off',\n",
       " '85% off',\n",
       " '78% off',\n",
       " '84% off',\n",
       " '85% off',\n",
       " '82% off',\n",
       " '79% off',\n",
       " '86% off',\n",
       " '86% off',\n",
       " '88% off',\n",
       " '79% off',\n",
       " '86% off',\n",
       " '88% off',\n",
       " '30% off',\n",
       " '76% off',\n",
       " '88% off',\n",
       " '80% off',\n",
       " '70% off',\n",
       " '59% off',\n",
       " '88% off',\n",
       " '5% off',\n",
       " '88% off',\n",
       " '60% off',\n",
       " '84% off',\n",
       " '87% off',\n",
       " '88% off',\n",
       " '63% off',\n",
       " '87% off',\n",
       " '80% off',\n",
       " '80% off',\n",
       " '70% off',\n",
       " '65% off',\n",
       " '80% off',\n",
       " '87% off',\n",
       " '82% off',\n",
       " '76% off',\n",
       " '20% off',\n",
       " '76% off',\n",
       " '12% off',\n",
       " '87% off',\n",
       " '78% off',\n",
       " '73% off',\n",
       " '66% off',\n",
       " '65% off']"
      ]
     },
     "execution_count": 84,
     "metadata": {},
     "output_type": "execute_result"
    }
   ],
   "source": [
    "Discount[0:100]"
   ]
  },
  {
   "cell_type": "code",
   "execution_count": 85,
   "id": "dd54b524",
   "metadata": {},
   "outputs": [],
   "source": [
    "Discounts=pd.DataFrame(Discount)"
   ]
  },
  {
   "cell_type": "code",
   "execution_count": 87,
   "id": "b9e21ad9",
   "metadata": {},
   "outputs": [
    {
     "data": {
      "text/html": [
       "<div>\n",
       "<style scoped>\n",
       "    .dataframe tbody tr th:only-of-type {\n",
       "        vertical-align: middle;\n",
       "    }\n",
       "\n",
       "    .dataframe tbody tr th {\n",
       "        vertical-align: top;\n",
       "    }\n",
       "\n",
       "    .dataframe thead th {\n",
       "        text-align: right;\n",
       "    }\n",
       "</style>\n",
       "<table border=\"1\" class=\"dataframe\">\n",
       "  <thead>\n",
       "    <tr style=\"text-align: right;\">\n",
       "      <th></th>\n",
       "      <th>Brand</th>\n",
       "      <th>Product_Description</th>\n",
       "      <th>Price</th>\n",
       "      <th>Discount</th>\n",
       "    </tr>\n",
       "  </thead>\n",
       "  <tbody>\n",
       "    <tr>\n",
       "      <th>0</th>\n",
       "      <td>Ray-Ban</td>\n",
       "      <td>UV Protection Retro Square Sunglasses (55)</td>\n",
       "      <td>₹2,639</td>\n",
       "      <td>45% off</td>\n",
       "    </tr>\n",
       "    <tr>\n",
       "      <th>1</th>\n",
       "      <td>Ray-Ban</td>\n",
       "      <td>UV Protection Wayfarer Sunglasses (Free Size)</td>\n",
       "      <td>₹1,008</td>\n",
       "      <td>20% off</td>\n",
       "    </tr>\n",
       "    <tr>\n",
       "      <th>2</th>\n",
       "      <td>Mi</td>\n",
       "      <td>by Lenskart Polarized, UV Protection Aviator S...</td>\n",
       "      <td>₹649</td>\n",
       "      <td>45% off</td>\n",
       "    </tr>\n",
       "    <tr>\n",
       "      <th>3</th>\n",
       "      <td>Fastrack</td>\n",
       "      <td>UV Protection, Night Vision, Riding Glasses Av...</td>\n",
       "      <td>₹649</td>\n",
       "      <td>30% off</td>\n",
       "    </tr>\n",
       "    <tr>\n",
       "      <th>4</th>\n",
       "      <td>Mi</td>\n",
       "      <td>UV Protection Retro Square Sunglasses (54)</td>\n",
       "      <td>₹639</td>\n",
       "      <td>84% off</td>\n",
       "    </tr>\n",
       "    <tr>\n",
       "      <th>...</th>\n",
       "      <td>...</td>\n",
       "      <td>...</td>\n",
       "      <td>...</td>\n",
       "      <td>...</td>\n",
       "    </tr>\n",
       "    <tr>\n",
       "      <th>95</th>\n",
       "      <td>VINCENT CHASE</td>\n",
       "      <td>NaN</td>\n",
       "      <td>₹369</td>\n",
       "      <td>87% off</td>\n",
       "    </tr>\n",
       "    <tr>\n",
       "      <th>96</th>\n",
       "      <td>hipe</td>\n",
       "      <td>NaN</td>\n",
       "      <td>₹248</td>\n",
       "      <td>78% off</td>\n",
       "    </tr>\n",
       "    <tr>\n",
       "      <th>97</th>\n",
       "      <td>Fastrack</td>\n",
       "      <td>NaN</td>\n",
       "      <td>₹1,599</td>\n",
       "      <td>73% off</td>\n",
       "    </tr>\n",
       "    <tr>\n",
       "      <th>98</th>\n",
       "      <td>AISLIN</td>\n",
       "      <td>NaN</td>\n",
       "      <td>₹179</td>\n",
       "      <td>66% off</td>\n",
       "    </tr>\n",
       "    <tr>\n",
       "      <th>99</th>\n",
       "      <td>ROZZETTA CRAFT</td>\n",
       "      <td>NaN</td>\n",
       "      <td>₹501</td>\n",
       "      <td>65% off</td>\n",
       "    </tr>\n",
       "  </tbody>\n",
       "</table>\n",
       "<p>100 rows × 4 columns</p>\n",
       "</div>"
      ],
      "text/plain": [
       "             Brand                                Product_Description   Price  \\\n",
       "0          Ray-Ban         UV Protection Retro Square Sunglasses (55)  ₹2,639   \n",
       "1          Ray-Ban      UV Protection Wayfarer Sunglasses (Free Size)  ₹1,008   \n",
       "2               Mi  by Lenskart Polarized, UV Protection Aviator S...    ₹649   \n",
       "3         Fastrack  UV Protection, Night Vision, Riding Glasses Av...    ₹649   \n",
       "4               Mi         UV Protection Retro Square Sunglasses (54)    ₹639   \n",
       "..             ...                                                ...     ...   \n",
       "95   VINCENT CHASE                                                NaN    ₹369   \n",
       "96            hipe                                                NaN    ₹248   \n",
       "97        Fastrack                                                NaN  ₹1,599   \n",
       "98          AISLIN                                                NaN    ₹179   \n",
       "99  ROZZETTA CRAFT                                                NaN    ₹501   \n",
       "\n",
       "   Discount  \n",
       "0   45% off  \n",
       "1   20% off  \n",
       "2   45% off  \n",
       "3   30% off  \n",
       "4   84% off  \n",
       "..      ...  \n",
       "95  87% off  \n",
       "96  78% off  \n",
       "97  73% off  \n",
       "98  66% off  \n",
       "99  65% off  \n",
       "\n",
       "[100 rows x 4 columns]"
      ]
     },
     "execution_count": 87,
     "metadata": {},
     "output_type": "execute_result"
    }
   ],
   "source": [
    "Flipkart_Sunglass=pd.concat([Brands,Product_Descriptions,Prices,Discounts],axis=1)\n",
    "Flipkart_Sunglass.columns=['Brand','Product_Description','Price','Discount']\n",
    "Flipkart_Sunglass.head(100)"
   ]
  },
  {
   "cell_type": "markdown",
   "id": "f95157a1",
   "metadata": {},
   "source": [
    "# FlipKart_iphone11"
   ]
  },
  {
   "cell_type": "code",
   "execution_count": 88,
   "id": "0ee8a91a",
   "metadata": {},
   "outputs": [],
   "source": [
    "driver.get(\"https://www.flipkart.com/\")"
   ]
  },
  {
   "cell_type": "code",
   "execution_count": 89,
   "id": "dcc2346e",
   "metadata": {},
   "outputs": [],
   "source": [
    "search_designation=driver.find_element_by_xpath(\"/html/body/div/div/div[1]/div[1]/div[2]/div[2]/form/div/div/input\")\n",
    "search_designation.send_keys(\"iphone 11\")"
   ]
  },
  {
   "cell_type": "code",
   "execution_count": 90,
   "id": "116d9ad9",
   "metadata": {},
   "outputs": [],
   "source": [
    "search_button=driver.find_element_by_class_name(\"L0Z3Pu\")\n",
    "search_button.click()"
   ]
  },
  {
   "cell_type": "code",
   "execution_count": 91,
   "id": "201c35d9",
   "metadata": {},
   "outputs": [],
   "source": [
    "search_product=driver.find_element_by_xpath(\"/html/body/div/div/div[3]/div[1]/div[2]/div[2]/div/div/div/a/div[2]/div[1]/div[1]\")\n",
    "search_product.click()"
   ]
  },
  {
   "cell_type": "code",
   "execution_count": 102,
   "id": "941eba09",
   "metadata": {},
   "outputs": [],
   "source": [
    "Rating=[]\n",
    "for i in range(0,2):\n",
    "    Rating_Tag=driver.find_elements_by_xpath(\"//div[@class='_3LWZlK _1BLPMq']\")\n",
    "    for i in Rating_Tag:\n",
    "           Rating.append(i.text)\n",
    "    next_button=driver.find_element_by_class_name(\"_1LKTO3\")\n",
    "    next_button.click()\n",
    "    time.sleep(5)"
   ]
  },
  {
   "cell_type": "code",
   "execution_count": 103,
   "id": "855c19ce",
   "metadata": {},
   "outputs": [
    {
     "data": {
      "text/plain": [
       "[]"
      ]
     },
     "execution_count": 103,
     "metadata": {},
     "output_type": "execute_result"
    }
   ],
   "source": [
    "Rating[0:99]"
   ]
  }
 ],
 "metadata": {
  "kernelspec": {
   "display_name": "Python 3 (ipykernel)",
   "language": "python",
   "name": "python3"
  },
  "language_info": {
   "codemirror_mode": {
    "name": "ipython",
    "version": 3
   },
   "file_extension": ".py",
   "mimetype": "text/x-python",
   "name": "python",
   "nbconvert_exporter": "python",
   "pygments_lexer": "ipython3",
   "version": "3.9.7"
  }
 },
 "nbformat": 4,
 "nbformat_minor": 5
}
