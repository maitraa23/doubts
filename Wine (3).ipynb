{
 "cells": [
  {
   "cell_type": "code",
   "execution_count": 1,
   "id": "88658d34",
   "metadata": {},
   "outputs": [],
   "source": [
    "import pandas as pd\n",
    "import numpy as np\n",
    "from sklearn.preprocessing import StandardScaler\n",
    "from sklearn.linear_model import LogisticRegression\n",
    "from sklearn.metrics import confusion_matrix, classification_report\n",
    "from sklearn.neighbors import KNeighborsClassifier\n",
    "from sklearn.tree import DecisionTreeClassifier\n",
    "from sklearn.model_selection import train_test_split\n",
    "from statsmodels.stats.outliers_influence import variance_inflation_factor\n",
    "from sklearn.metrics import accuracy_score,confusion_matrix,roc_curve, roc_auc_score\n",
    "import matplotlib.pyplot as plt\n",
    "import seaborn as sns\n",
    "\n",
    "import warnings\n",
    "warnings.filterwarnings('ignore')"
   ]
  },
  {
   "cell_type": "code",
   "execution_count": 2,
   "id": "51daa436",
   "metadata": {},
   "outputs": [],
   "source": [
    "Data= pd.read_csv(\"https://raw.githubusercontent.com/training-ml/Files/main/wine.csv\")"
   ]
  },
  {
   "cell_type": "code",
   "execution_count": 3,
   "id": "9d91949f",
   "metadata": {},
   "outputs": [
    {
     "data": {
      "text/html": [
       "<div>\n",
       "<style scoped>\n",
       "    .dataframe tbody tr th:only-of-type {\n",
       "        vertical-align: middle;\n",
       "    }\n",
       "\n",
       "    .dataframe tbody tr th {\n",
       "        vertical-align: top;\n",
       "    }\n",
       "\n",
       "    .dataframe thead th {\n",
       "        text-align: right;\n",
       "    }\n",
       "</style>\n",
       "<table border=\"1\" class=\"dataframe\">\n",
       "  <thead>\n",
       "    <tr style=\"text-align: right;\">\n",
       "      <th></th>\n",
       "      <th>fixed acidity</th>\n",
       "      <th>volatile acidity</th>\n",
       "      <th>citric acid</th>\n",
       "      <th>residual sugar</th>\n",
       "      <th>chlorides</th>\n",
       "      <th>free sulfur dioxide</th>\n",
       "      <th>total sulfur dioxide</th>\n",
       "      <th>density</th>\n",
       "      <th>pH</th>\n",
       "      <th>sulphates</th>\n",
       "      <th>alcohol</th>\n",
       "      <th>Alcohol_content</th>\n",
       "      <th>quality</th>\n",
       "    </tr>\n",
       "  </thead>\n",
       "  <tbody>\n",
       "    <tr>\n",
       "      <th>0</th>\n",
       "      <td>7.4</td>\n",
       "      <td>0.70</td>\n",
       "      <td>0.00</td>\n",
       "      <td>1.9</td>\n",
       "      <td>0.076</td>\n",
       "      <td>11.0</td>\n",
       "      <td>34.0</td>\n",
       "      <td>0.9978</td>\n",
       "      <td>3.51</td>\n",
       "      <td>0.56</td>\n",
       "      <td>9.4</td>\n",
       "      <td>Low</td>\n",
       "      <td>5</td>\n",
       "    </tr>\n",
       "    <tr>\n",
       "      <th>1</th>\n",
       "      <td>7.8</td>\n",
       "      <td>0.88</td>\n",
       "      <td>0.00</td>\n",
       "      <td>2.6</td>\n",
       "      <td>0.098</td>\n",
       "      <td>25.0</td>\n",
       "      <td>67.0</td>\n",
       "      <td>0.9968</td>\n",
       "      <td>3.20</td>\n",
       "      <td>0.68</td>\n",
       "      <td>9.8</td>\n",
       "      <td>Medium</td>\n",
       "      <td>5</td>\n",
       "    </tr>\n",
       "    <tr>\n",
       "      <th>2</th>\n",
       "      <td>7.8</td>\n",
       "      <td>0.76</td>\n",
       "      <td>0.04</td>\n",
       "      <td>2.3</td>\n",
       "      <td>0.092</td>\n",
       "      <td>15.0</td>\n",
       "      <td>54.0</td>\n",
       "      <td>0.9970</td>\n",
       "      <td>3.26</td>\n",
       "      <td>0.65</td>\n",
       "      <td>9.8</td>\n",
       "      <td>Medium</td>\n",
       "      <td>5</td>\n",
       "    </tr>\n",
       "    <tr>\n",
       "      <th>3</th>\n",
       "      <td>11.2</td>\n",
       "      <td>0.28</td>\n",
       "      <td>0.56</td>\n",
       "      <td>1.9</td>\n",
       "      <td>0.075</td>\n",
       "      <td>17.0</td>\n",
       "      <td>60.0</td>\n",
       "      <td>0.9980</td>\n",
       "      <td>3.16</td>\n",
       "      <td>0.58</td>\n",
       "      <td>9.8</td>\n",
       "      <td>Medium</td>\n",
       "      <td>6</td>\n",
       "    </tr>\n",
       "    <tr>\n",
       "      <th>4</th>\n",
       "      <td>7.4</td>\n",
       "      <td>0.70</td>\n",
       "      <td>0.00</td>\n",
       "      <td>1.9</td>\n",
       "      <td>0.076</td>\n",
       "      <td>11.0</td>\n",
       "      <td>34.0</td>\n",
       "      <td>0.9978</td>\n",
       "      <td>3.51</td>\n",
       "      <td>0.56</td>\n",
       "      <td>9.4</td>\n",
       "      <td>Low</td>\n",
       "      <td>5</td>\n",
       "    </tr>\n",
       "  </tbody>\n",
       "</table>\n",
       "</div>"
      ],
      "text/plain": [
       "   fixed acidity  volatile acidity  citric acid  residual sugar  chlorides  \\\n",
       "0            7.4              0.70         0.00             1.9      0.076   \n",
       "1            7.8              0.88         0.00             2.6      0.098   \n",
       "2            7.8              0.76         0.04             2.3      0.092   \n",
       "3           11.2              0.28         0.56             1.9      0.075   \n",
       "4            7.4              0.70         0.00             1.9      0.076   \n",
       "\n",
       "   free sulfur dioxide  total sulfur dioxide  density    pH  sulphates  \\\n",
       "0                 11.0                  34.0   0.9978  3.51       0.56   \n",
       "1                 25.0                  67.0   0.9968  3.20       0.68   \n",
       "2                 15.0                  54.0   0.9970  3.26       0.65   \n",
       "3                 17.0                  60.0   0.9980  3.16       0.58   \n",
       "4                 11.0                  34.0   0.9978  3.51       0.56   \n",
       "\n",
       "   alcohol Alcohol_content  quality  \n",
       "0      9.4             Low        5  \n",
       "1      9.8          Medium        5  \n",
       "2      9.8          Medium        5  \n",
       "3      9.8          Medium        6  \n",
       "4      9.4             Low        5  "
      ]
     },
     "execution_count": 3,
     "metadata": {},
     "output_type": "execute_result"
    }
   ],
   "source": [
    "Data.head()"
   ]
  },
  {
   "cell_type": "code",
   "execution_count": 18,
   "id": "50b693c7",
   "metadata": {},
   "outputs": [
    {
     "name": "stdout",
     "output_type": "stream",
     "text": [
      "<class 'pandas.core.frame.DataFrame'>\n",
      "RangeIndex: 1599 entries, 0 to 1598\n",
      "Data columns (total 14 columns):\n",
      " #   Column                Non-Null Count  Dtype  \n",
      "---  ------                --------------  -----  \n",
      " 0   fixed acidity         1599 non-null   float64\n",
      " 1   volatile acidity      1599 non-null   float64\n",
      " 2   citric acid           1599 non-null   float64\n",
      " 3   residual sugar        1599 non-null   float64\n",
      " 4   chlorides             1599 non-null   float64\n",
      " 5   free sulfur dioxide   1599 non-null   float64\n",
      " 6   total sulfur dioxide  1599 non-null   float64\n",
      " 7   density               1599 non-null   float64\n",
      " 8   pH                    1599 non-null   float64\n",
      " 9   sulphates             1599 non-null   float64\n",
      " 10  alcohol               1599 non-null   float64\n",
      " 11  Alcohol_content       1599 non-null   float64\n",
      " 12  quality               1599 non-null   int64  \n",
      " 13  Alcohol Content       1599 non-null   float64\n",
      "dtypes: float64(13), int64(1)\n",
      "memory usage: 175.0 KB\n"
     ]
    }
   ],
   "source": [
    "Data.info()"
   ]
  },
  {
   "cell_type": "code",
   "execution_count": 6,
   "id": "ccd50863",
   "metadata": {},
   "outputs": [
    {
     "data": {
      "text/plain": [
       "fixed acidity           0\n",
       "volatile acidity        0\n",
       "citric acid             0\n",
       "residual sugar          0\n",
       "chlorides               0\n",
       "free sulfur dioxide     0\n",
       "total sulfur dioxide    0\n",
       "density                 0\n",
       "pH                      0\n",
       "sulphates               0\n",
       "alcohol                 0\n",
       "Alcohol_content         0\n",
       "quality                 0\n",
       "dtype: int64"
      ]
     },
     "execution_count": 6,
     "metadata": {},
     "output_type": "execute_result"
    }
   ],
   "source": [
    "Data.isnull().sum()"
   ]
  },
  {
   "cell_type": "code",
   "execution_count": 7,
   "id": "11d16584",
   "metadata": {},
   "outputs": [
    {
     "data": {
      "text/plain": [
       "(1599, 13)"
      ]
     },
     "execution_count": 7,
     "metadata": {},
     "output_type": "execute_result"
    }
   ],
   "source": [
    "Data.shape"
   ]
  },
  {
   "cell_type": "code",
   "execution_count": 8,
   "id": "a2c4a8c3",
   "metadata": {},
   "outputs": [
    {
     "data": {
      "text/plain": [
       "array(['Low', 'Medium', 'High'], dtype=object)"
      ]
     },
     "execution_count": 8,
     "metadata": {},
     "output_type": "execute_result"
    }
   ],
   "source": [
    "Data[\"Alcohol_content\"].unique()"
   ]
  },
  {
   "cell_type": "code",
   "execution_count": 10,
   "id": "246343a3",
   "metadata": {},
   "outputs": [],
   "source": [
    "from sklearn.preprocessing import OrdinalEncoder"
   ]
  },
  {
   "cell_type": "code",
   "execution_count": 14,
   "id": "1e320d50",
   "metadata": {},
   "outputs": [],
   "source": [
    "OE= OrdinalEncoder()"
   ]
  },
  {
   "cell_type": "code",
   "execution_count": 15,
   "id": "0ab1d662",
   "metadata": {},
   "outputs": [
    {
     "data": {
      "text/plain": [
       "array([[1.],\n",
       "       [2.],\n",
       "       [2.],\n",
       "       ...,\n",
       "       [0.],\n",
       "       [2.],\n",
       "       [0.]])"
      ]
     },
     "execution_count": 15,
     "metadata": {},
     "output_type": "execute_result"
    }
   ],
   "source": [
    "Encode= OE.fit_transform(Data[[\"Alcohol_content\"]])\n",
    "Encode"
   ]
  },
  {
   "cell_type": "code",
   "execution_count": 16,
   "id": "0e1f0a78",
   "metadata": {},
   "outputs": [],
   "source": [
    "Data[\"Alcohol_content\"]=Encode\n"
   ]
  },
  {
   "cell_type": "code",
   "execution_count": 17,
   "id": "17150b8f",
   "metadata": {},
   "outputs": [
    {
     "data": {
      "text/html": [
       "<div>\n",
       "<style scoped>\n",
       "    .dataframe tbody tr th:only-of-type {\n",
       "        vertical-align: middle;\n",
       "    }\n",
       "\n",
       "    .dataframe tbody tr th {\n",
       "        vertical-align: top;\n",
       "    }\n",
       "\n",
       "    .dataframe thead th {\n",
       "        text-align: right;\n",
       "    }\n",
       "</style>\n",
       "<table border=\"1\" class=\"dataframe\">\n",
       "  <thead>\n",
       "    <tr style=\"text-align: right;\">\n",
       "      <th></th>\n",
       "      <th>fixed acidity</th>\n",
       "      <th>volatile acidity</th>\n",
       "      <th>citric acid</th>\n",
       "      <th>residual sugar</th>\n",
       "      <th>chlorides</th>\n",
       "      <th>free sulfur dioxide</th>\n",
       "      <th>total sulfur dioxide</th>\n",
       "      <th>density</th>\n",
       "      <th>pH</th>\n",
       "      <th>sulphates</th>\n",
       "      <th>alcohol</th>\n",
       "      <th>Alcohol_content</th>\n",
       "      <th>quality</th>\n",
       "      <th>Alcohol Content</th>\n",
       "    </tr>\n",
       "  </thead>\n",
       "  <tbody>\n",
       "    <tr>\n",
       "      <th>0</th>\n",
       "      <td>7.4</td>\n",
       "      <td>0.700</td>\n",
       "      <td>0.00</td>\n",
       "      <td>1.9</td>\n",
       "      <td>0.076</td>\n",
       "      <td>11.0</td>\n",
       "      <td>34.0</td>\n",
       "      <td>0.99780</td>\n",
       "      <td>3.51</td>\n",
       "      <td>0.56</td>\n",
       "      <td>9.4</td>\n",
       "      <td>1.0</td>\n",
       "      <td>5</td>\n",
       "      <td>1.0</td>\n",
       "    </tr>\n",
       "    <tr>\n",
       "      <th>1</th>\n",
       "      <td>7.8</td>\n",
       "      <td>0.880</td>\n",
       "      <td>0.00</td>\n",
       "      <td>2.6</td>\n",
       "      <td>0.098</td>\n",
       "      <td>25.0</td>\n",
       "      <td>67.0</td>\n",
       "      <td>0.99680</td>\n",
       "      <td>3.20</td>\n",
       "      <td>0.68</td>\n",
       "      <td>9.8</td>\n",
       "      <td>2.0</td>\n",
       "      <td>5</td>\n",
       "      <td>2.0</td>\n",
       "    </tr>\n",
       "    <tr>\n",
       "      <th>2</th>\n",
       "      <td>7.8</td>\n",
       "      <td>0.760</td>\n",
       "      <td>0.04</td>\n",
       "      <td>2.3</td>\n",
       "      <td>0.092</td>\n",
       "      <td>15.0</td>\n",
       "      <td>54.0</td>\n",
       "      <td>0.99700</td>\n",
       "      <td>3.26</td>\n",
       "      <td>0.65</td>\n",
       "      <td>9.8</td>\n",
       "      <td>2.0</td>\n",
       "      <td>5</td>\n",
       "      <td>2.0</td>\n",
       "    </tr>\n",
       "    <tr>\n",
       "      <th>3</th>\n",
       "      <td>11.2</td>\n",
       "      <td>0.280</td>\n",
       "      <td>0.56</td>\n",
       "      <td>1.9</td>\n",
       "      <td>0.075</td>\n",
       "      <td>17.0</td>\n",
       "      <td>60.0</td>\n",
       "      <td>0.99800</td>\n",
       "      <td>3.16</td>\n",
       "      <td>0.58</td>\n",
       "      <td>9.8</td>\n",
       "      <td>2.0</td>\n",
       "      <td>6</td>\n",
       "      <td>2.0</td>\n",
       "    </tr>\n",
       "    <tr>\n",
       "      <th>4</th>\n",
       "      <td>7.4</td>\n",
       "      <td>0.700</td>\n",
       "      <td>0.00</td>\n",
       "      <td>1.9</td>\n",
       "      <td>0.076</td>\n",
       "      <td>11.0</td>\n",
       "      <td>34.0</td>\n",
       "      <td>0.99780</td>\n",
       "      <td>3.51</td>\n",
       "      <td>0.56</td>\n",
       "      <td>9.4</td>\n",
       "      <td>1.0</td>\n",
       "      <td>5</td>\n",
       "      <td>1.0</td>\n",
       "    </tr>\n",
       "    <tr>\n",
       "      <th>...</th>\n",
       "      <td>...</td>\n",
       "      <td>...</td>\n",
       "      <td>...</td>\n",
       "      <td>...</td>\n",
       "      <td>...</td>\n",
       "      <td>...</td>\n",
       "      <td>...</td>\n",
       "      <td>...</td>\n",
       "      <td>...</td>\n",
       "      <td>...</td>\n",
       "      <td>...</td>\n",
       "      <td>...</td>\n",
       "      <td>...</td>\n",
       "      <td>...</td>\n",
       "    </tr>\n",
       "    <tr>\n",
       "      <th>1594</th>\n",
       "      <td>6.2</td>\n",
       "      <td>0.600</td>\n",
       "      <td>0.08</td>\n",
       "      <td>2.0</td>\n",
       "      <td>0.090</td>\n",
       "      <td>32.0</td>\n",
       "      <td>44.0</td>\n",
       "      <td>0.99490</td>\n",
       "      <td>3.45</td>\n",
       "      <td>0.58</td>\n",
       "      <td>10.5</td>\n",
       "      <td>2.0</td>\n",
       "      <td>5</td>\n",
       "      <td>2.0</td>\n",
       "    </tr>\n",
       "    <tr>\n",
       "      <th>1595</th>\n",
       "      <td>5.9</td>\n",
       "      <td>0.550</td>\n",
       "      <td>0.10</td>\n",
       "      <td>2.2</td>\n",
       "      <td>0.062</td>\n",
       "      <td>39.0</td>\n",
       "      <td>51.0</td>\n",
       "      <td>0.99512</td>\n",
       "      <td>3.52</td>\n",
       "      <td>0.76</td>\n",
       "      <td>11.2</td>\n",
       "      <td>0.0</td>\n",
       "      <td>6</td>\n",
       "      <td>0.0</td>\n",
       "    </tr>\n",
       "    <tr>\n",
       "      <th>1596</th>\n",
       "      <td>6.3</td>\n",
       "      <td>0.510</td>\n",
       "      <td>0.13</td>\n",
       "      <td>2.3</td>\n",
       "      <td>0.076</td>\n",
       "      <td>29.0</td>\n",
       "      <td>40.0</td>\n",
       "      <td>0.99574</td>\n",
       "      <td>3.42</td>\n",
       "      <td>0.75</td>\n",
       "      <td>11.0</td>\n",
       "      <td>0.0</td>\n",
       "      <td>6</td>\n",
       "      <td>0.0</td>\n",
       "    </tr>\n",
       "    <tr>\n",
       "      <th>1597</th>\n",
       "      <td>5.9</td>\n",
       "      <td>0.645</td>\n",
       "      <td>0.12</td>\n",
       "      <td>2.0</td>\n",
       "      <td>0.075</td>\n",
       "      <td>32.0</td>\n",
       "      <td>44.0</td>\n",
       "      <td>0.99547</td>\n",
       "      <td>3.57</td>\n",
       "      <td>0.71</td>\n",
       "      <td>10.2</td>\n",
       "      <td>2.0</td>\n",
       "      <td>5</td>\n",
       "      <td>2.0</td>\n",
       "    </tr>\n",
       "    <tr>\n",
       "      <th>1598</th>\n",
       "      <td>6.0</td>\n",
       "      <td>0.310</td>\n",
       "      <td>0.47</td>\n",
       "      <td>3.6</td>\n",
       "      <td>0.067</td>\n",
       "      <td>18.0</td>\n",
       "      <td>42.0</td>\n",
       "      <td>0.99549</td>\n",
       "      <td>3.39</td>\n",
       "      <td>0.66</td>\n",
       "      <td>11.0</td>\n",
       "      <td>0.0</td>\n",
       "      <td>6</td>\n",
       "      <td>0.0</td>\n",
       "    </tr>\n",
       "  </tbody>\n",
       "</table>\n",
       "<p>1599 rows × 14 columns</p>\n",
       "</div>"
      ],
      "text/plain": [
       "      fixed acidity  volatile acidity  citric acid  residual sugar  chlorides  \\\n",
       "0               7.4             0.700         0.00             1.9      0.076   \n",
       "1               7.8             0.880         0.00             2.6      0.098   \n",
       "2               7.8             0.760         0.04             2.3      0.092   \n",
       "3              11.2             0.280         0.56             1.9      0.075   \n",
       "4               7.4             0.700         0.00             1.9      0.076   \n",
       "...             ...               ...          ...             ...        ...   \n",
       "1594            6.2             0.600         0.08             2.0      0.090   \n",
       "1595            5.9             0.550         0.10             2.2      0.062   \n",
       "1596            6.3             0.510         0.13             2.3      0.076   \n",
       "1597            5.9             0.645         0.12             2.0      0.075   \n",
       "1598            6.0             0.310         0.47             3.6      0.067   \n",
       "\n",
       "      free sulfur dioxide  total sulfur dioxide  density    pH  sulphates  \\\n",
       "0                    11.0                  34.0  0.99780  3.51       0.56   \n",
       "1                    25.0                  67.0  0.99680  3.20       0.68   \n",
       "2                    15.0                  54.0  0.99700  3.26       0.65   \n",
       "3                    17.0                  60.0  0.99800  3.16       0.58   \n",
       "4                    11.0                  34.0  0.99780  3.51       0.56   \n",
       "...                   ...                   ...      ...   ...        ...   \n",
       "1594                 32.0                  44.0  0.99490  3.45       0.58   \n",
       "1595                 39.0                  51.0  0.99512  3.52       0.76   \n",
       "1596                 29.0                  40.0  0.99574  3.42       0.75   \n",
       "1597                 32.0                  44.0  0.99547  3.57       0.71   \n",
       "1598                 18.0                  42.0  0.99549  3.39       0.66   \n",
       "\n",
       "      alcohol  Alcohol_content  quality  Alcohol Content  \n",
       "0         9.4              1.0        5              1.0  \n",
       "1         9.8              2.0        5              2.0  \n",
       "2         9.8              2.0        5              2.0  \n",
       "3         9.8              2.0        6              2.0  \n",
       "4         9.4              1.0        5              1.0  \n",
       "...       ...              ...      ...              ...  \n",
       "1594     10.5              2.0        5              2.0  \n",
       "1595     11.2              0.0        6              0.0  \n",
       "1596     11.0              0.0        6              0.0  \n",
       "1597     10.2              2.0        5              2.0  \n",
       "1598     11.0              0.0        6              0.0  \n",
       "\n",
       "[1599 rows x 14 columns]"
      ]
     },
     "execution_count": 17,
     "metadata": {},
     "output_type": "execute_result"
    }
   ],
   "source": [
    "Data"
   ]
  },
  {
   "cell_type": "code",
   "execution_count": 5,
   "id": "7e38a588",
   "metadata": {},
   "outputs": [
    {
     "data": {
      "text/html": [
       "<div>\n",
       "<style scoped>\n",
       "    .dataframe tbody tr th:only-of-type {\n",
       "        vertical-align: middle;\n",
       "    }\n",
       "\n",
       "    .dataframe tbody tr th {\n",
       "        vertical-align: top;\n",
       "    }\n",
       "\n",
       "    .dataframe thead th {\n",
       "        text-align: right;\n",
       "    }\n",
       "</style>\n",
       "<table border=\"1\" class=\"dataframe\">\n",
       "  <thead>\n",
       "    <tr style=\"text-align: right;\">\n",
       "      <th></th>\n",
       "      <th>fixed acidity</th>\n",
       "      <th>volatile acidity</th>\n",
       "      <th>citric acid</th>\n",
       "      <th>residual sugar</th>\n",
       "      <th>chlorides</th>\n",
       "      <th>free sulfur dioxide</th>\n",
       "      <th>total sulfur dioxide</th>\n",
       "      <th>density</th>\n",
       "      <th>pH</th>\n",
       "      <th>sulphates</th>\n",
       "      <th>alcohol</th>\n",
       "      <th>quality</th>\n",
       "    </tr>\n",
       "  </thead>\n",
       "  <tbody>\n",
       "    <tr>\n",
       "      <th>count</th>\n",
       "      <td>1599.000000</td>\n",
       "      <td>1599.000000</td>\n",
       "      <td>1599.000000</td>\n",
       "      <td>1599.000000</td>\n",
       "      <td>1599.000000</td>\n",
       "      <td>1599.000000</td>\n",
       "      <td>1599.000000</td>\n",
       "      <td>1599.000000</td>\n",
       "      <td>1599.000000</td>\n",
       "      <td>1599.000000</td>\n",
       "      <td>1599.000000</td>\n",
       "      <td>1599.000000</td>\n",
       "    </tr>\n",
       "    <tr>\n",
       "      <th>mean</th>\n",
       "      <td>8.319637</td>\n",
       "      <td>0.527821</td>\n",
       "      <td>0.270976</td>\n",
       "      <td>2.538806</td>\n",
       "      <td>0.087467</td>\n",
       "      <td>15.874922</td>\n",
       "      <td>46.467792</td>\n",
       "      <td>0.996747</td>\n",
       "      <td>3.311113</td>\n",
       "      <td>0.658149</td>\n",
       "      <td>10.422983</td>\n",
       "      <td>5.636023</td>\n",
       "    </tr>\n",
       "    <tr>\n",
       "      <th>std</th>\n",
       "      <td>1.741096</td>\n",
       "      <td>0.179060</td>\n",
       "      <td>0.194801</td>\n",
       "      <td>1.409928</td>\n",
       "      <td>0.047065</td>\n",
       "      <td>10.460157</td>\n",
       "      <td>32.895324</td>\n",
       "      <td>0.001887</td>\n",
       "      <td>0.154386</td>\n",
       "      <td>0.169507</td>\n",
       "      <td>1.065668</td>\n",
       "      <td>0.807569</td>\n",
       "    </tr>\n",
       "    <tr>\n",
       "      <th>min</th>\n",
       "      <td>4.600000</td>\n",
       "      <td>0.120000</td>\n",
       "      <td>0.000000</td>\n",
       "      <td>0.900000</td>\n",
       "      <td>0.012000</td>\n",
       "      <td>1.000000</td>\n",
       "      <td>6.000000</td>\n",
       "      <td>0.990070</td>\n",
       "      <td>2.740000</td>\n",
       "      <td>0.330000</td>\n",
       "      <td>8.400000</td>\n",
       "      <td>3.000000</td>\n",
       "    </tr>\n",
       "    <tr>\n",
       "      <th>25%</th>\n",
       "      <td>7.100000</td>\n",
       "      <td>0.390000</td>\n",
       "      <td>0.090000</td>\n",
       "      <td>1.900000</td>\n",
       "      <td>0.070000</td>\n",
       "      <td>7.000000</td>\n",
       "      <td>22.000000</td>\n",
       "      <td>0.995600</td>\n",
       "      <td>3.210000</td>\n",
       "      <td>0.550000</td>\n",
       "      <td>9.500000</td>\n",
       "      <td>5.000000</td>\n",
       "    </tr>\n",
       "    <tr>\n",
       "      <th>50%</th>\n",
       "      <td>7.900000</td>\n",
       "      <td>0.520000</td>\n",
       "      <td>0.260000</td>\n",
       "      <td>2.200000</td>\n",
       "      <td>0.079000</td>\n",
       "      <td>14.000000</td>\n",
       "      <td>38.000000</td>\n",
       "      <td>0.996750</td>\n",
       "      <td>3.310000</td>\n",
       "      <td>0.620000</td>\n",
       "      <td>10.200000</td>\n",
       "      <td>6.000000</td>\n",
       "    </tr>\n",
       "    <tr>\n",
       "      <th>75%</th>\n",
       "      <td>9.200000</td>\n",
       "      <td>0.640000</td>\n",
       "      <td>0.420000</td>\n",
       "      <td>2.600000</td>\n",
       "      <td>0.090000</td>\n",
       "      <td>21.000000</td>\n",
       "      <td>62.000000</td>\n",
       "      <td>0.997835</td>\n",
       "      <td>3.400000</td>\n",
       "      <td>0.730000</td>\n",
       "      <td>11.100000</td>\n",
       "      <td>6.000000</td>\n",
       "    </tr>\n",
       "    <tr>\n",
       "      <th>max</th>\n",
       "      <td>15.900000</td>\n",
       "      <td>1.580000</td>\n",
       "      <td>1.000000</td>\n",
       "      <td>15.500000</td>\n",
       "      <td>0.611000</td>\n",
       "      <td>72.000000</td>\n",
       "      <td>289.000000</td>\n",
       "      <td>1.003690</td>\n",
       "      <td>4.010000</td>\n",
       "      <td>2.000000</td>\n",
       "      <td>14.900000</td>\n",
       "      <td>8.000000</td>\n",
       "    </tr>\n",
       "  </tbody>\n",
       "</table>\n",
       "</div>"
      ],
      "text/plain": [
       "       fixed acidity  volatile acidity  citric acid  residual sugar  \\\n",
       "count    1599.000000       1599.000000  1599.000000     1599.000000   \n",
       "mean        8.319637          0.527821     0.270976        2.538806   \n",
       "std         1.741096          0.179060     0.194801        1.409928   \n",
       "min         4.600000          0.120000     0.000000        0.900000   \n",
       "25%         7.100000          0.390000     0.090000        1.900000   \n",
       "50%         7.900000          0.520000     0.260000        2.200000   \n",
       "75%         9.200000          0.640000     0.420000        2.600000   \n",
       "max        15.900000          1.580000     1.000000       15.500000   \n",
       "\n",
       "         chlorides  free sulfur dioxide  total sulfur dioxide      density  \\\n",
       "count  1599.000000          1599.000000           1599.000000  1599.000000   \n",
       "mean      0.087467            15.874922             46.467792     0.996747   \n",
       "std       0.047065            10.460157             32.895324     0.001887   \n",
       "min       0.012000             1.000000              6.000000     0.990070   \n",
       "25%       0.070000             7.000000             22.000000     0.995600   \n",
       "50%       0.079000            14.000000             38.000000     0.996750   \n",
       "75%       0.090000            21.000000             62.000000     0.997835   \n",
       "max       0.611000            72.000000            289.000000     1.003690   \n",
       "\n",
       "                pH    sulphates      alcohol      quality  \n",
       "count  1599.000000  1599.000000  1599.000000  1599.000000  \n",
       "mean      3.311113     0.658149    10.422983     5.636023  \n",
       "std       0.154386     0.169507     1.065668     0.807569  \n",
       "min       2.740000     0.330000     8.400000     3.000000  \n",
       "25%       3.210000     0.550000     9.500000     5.000000  \n",
       "50%       3.310000     0.620000    10.200000     6.000000  \n",
       "75%       3.400000     0.730000    11.100000     6.000000  \n",
       "max       4.010000     2.000000    14.900000     8.000000  "
      ]
     },
     "execution_count": 5,
     "metadata": {},
     "output_type": "execute_result"
    }
   ],
   "source": [
    "Data.describe()"
   ]
  },
  {
   "cell_type": "code",
   "execution_count": 44,
   "id": "6cc72a9e",
   "metadata": {},
   "outputs": [
    {
     "data": {
      "image/png": "[encoded data removed]",
      "text/plain": [
       "<Figure size 432x288 with 1 Axes>"
      ]
     },
     "metadata": {
      "needs_background": "light"
     },
     "output_type": "display_data"
    },
    {
     "data": {
      "image/png": "[encoded data removed]",
      "text/plain": [
       "<Figure size 432x288 with 1 Axes>"
      ]
     },
     "metadata": {
      "needs_background": "light"
     },
     "output_type": "display_data"
    },
    {
     "data": {
      "image/png": "[encoded data removed]",
      "text/plain": [
       "<Figure size 432x288 with 1 Axes>"
      ]
     },
     "metadata": {
      "needs_background": "light"
     },
     "output_type": "display_data"
    },
    {
     "data": {
      "image/png": "[encoded data removed]",
      "text/plain": [
       "<Figure size 432x288 with 1 Axes>"
      ]
     },
     "metadata": {
      "needs_background": "light"
     },
     "output_type": "display_data"
    },
    {
     "data": {
      "image/png": "[encoded data removed]",
      "text/plain": [
       "<Figure size 432x288 with 1 Axes>"
      ]
     },
     "metadata": {
      "needs_background": "light"
     },
     "output_type": "display_data"
    },
    {
     "data": {
      "image/png": "[encoded data removed]",
      "text/plain": [
       "<Figure size 432x288 with 1 Axes>"
      ]
     },
     "metadata": {
      "needs_background": "light"
     },
     "output_type": "display_data"
    },
    {
     "data": {
      "image/png": "[encoded data removed]",
      "text/plain": [
       "<Figure size 432x288 with 1 Axes>"
      ]
     },
     "metadata": {
      "needs_background": "light"
     },
     "output_type": "display_data"
    },
    {
     "data": {
      "image/png": "[encoded data removed]",
      "text/plain": [
       "<Figure size 432x288 with 1 Axes>"
      ]
     },
     "metadata": {
      "needs_background": "light"
     },
     "output_type": "display_data"
    },
    {
     "data": {
      "image/png": "[encoded data removed]",
      "text/plain": [
       "<Figure size 432x288 with 1 Axes>"
      ]
     },
     "metadata": {
      "needs_background": "light"
     },
     "output_type": "display_data"
    },
    {
     "data": {
      "image/png": "[encoded data removed]",
      "text/plain": [
       "<Figure size 432x288 with 1 Axes>"
      ]
     },
     "metadata": {
      "needs_background": "light"
     },
     "output_type": "display_data"
    },
    {
     "data": {
      "image/png": "[encoded data removed]",
      "text/plain": [
       "<Figure size 432x288 with 1 Axes>"
      ]
     },
     "metadata": {
      "needs_background": "light"
     },
     "output_type": "display_data"
    },
    {
     "data": {
      "image/png": "[encoded data removed]",
      "text/plain": [
       "<Figure size 432x288 with 1 Axes>"
      ]
     },
     "metadata": {
      "needs_background": "light"
     },
     "output_type": "display_data"
    },
    {
     "data": {
      "image/png": "[encoded data removed]",
      "text/plain": [
       "<Figure size 432x288 with 1 Axes>"
      ]
     },
     "metadata": {
      "needs_background": "light"
     },
     "output_type": "display_data"
    },
    {
     "data": {
      "image/png": "[encoded data removed]",
      "text/plain": [
       "<Figure size 432x288 with 1 Axes>"
      ]
     },
     "metadata": {
      "needs_background": "light"
     },
     "output_type": "display_data"
    }
   ],
   "source": [
    "plotnumber=1\n",
    "for column in Data:\n",
    " if plotnumber<=14:\n",
    "    sns.distplot(Data[column])\n",
    "    plt.xlabel(column)\n",
    " plotnumber=plotnumber+1\n",
    " plt.show()"
   ]
  },
  {
   "cell_type": "code",
   "execution_count": 46,
   "id": "05b3ae21",
   "metadata": {},
   "outputs": [
    {
     "data": {
      "image/png": "[encoded data removed]",
      "text/plain": [
       "<Figure size 432x288 with 1 Axes>"
      ]
     },
     "metadata": {
      "needs_background": "light"
     },
     "output_type": "display_data"
    },
    {
     "data": {
      "image/png": "[encoded data removed]",
      "text/plain": [
       "<Figure size 432x288 with 1 Axes>"
      ]
     },
     "metadata": {
      "needs_background": "light"
     },
     "output_type": "display_data"
    },
    {
     "data": {
      "image/png": "[encoded data removed]",
      "text/plain": [
       "<Figure size 432x288 with 1 Axes>"
      ]
     },
     "metadata": {
      "needs_background": "light"
     },
     "output_type": "display_data"
    },
    {
     "data": {
      "image/png": "[encoded data removed]",
      "text/plain": [
       "<Figure size 432x288 with 1 Axes>"
      ]
     },
     "metadata": {
      "needs_background": "light"
     },
     "output_type": "display_data"
    },
    {
     "data": {
      "image/png": "[encoded data removed]",
      "text/plain": [
       "<Figure size 432x288 with 1 Axes>"
      ]
     },
     "metadata": {
      "needs_background": "light"
     },
     "output_type": "display_data"
    },
    {
     "data": {
      "image/png": "[encoded data removed]",
      "text/plain": [
       "<Figure size 432x288 with 1 Axes>"
      ]
     },
     "metadata": {
      "needs_background": "light"
     },
     "output_type": "display_data"
    },
    {
     "data": {
      "image/png": "[encoded data removed]",
      "text/plain": [
       "<Figure size 432x288 with 1 Axes>"
      ]
     },
     "metadata": {
      "needs_background": "light"
     },
     "output_type": "display_data"
    },
    {
     "data": {
      "image/png": "[encoded data removed]",
      "text/plain": [
       "<Figure size 432x288 with 1 Axes>"
      ]
     },
     "metadata": {
      "needs_background": "light"
     },
     "output_type": "display_data"
    },
    {
     "data": {
      "image/png": "[encoded data removed]",
      "text/plain": [
       "<Figure size 432x288 with 1 Axes>"
      ]
     },
     "metadata": {
      "needs_background": "light"
     },
     "output_type": "display_data"
    },
    {
     "data": {
      "image/png": "[encoded data removed]",
      "text/plain": [
       "<Figure size 432x288 with 1 Axes>"
      ]
     },
     "metadata": {
      "needs_background": "light"
     },
     "output_type": "display_data"
    },
    {
     "data": {
      "image/png": "[encoded data removed]",
      "text/plain": [
       "<Figure size 432x288 with 1 Axes>"
      ]
     },
     "metadata": {
      "needs_background": "light"
     },
     "output_type": "display_data"
    },
    {
     "data": {
      "image/png": "[encoded data removed]",
      "text/plain": [
       "<Figure size 432x288 with 1 Axes>"
      ]
     },
     "metadata": {
      "needs_background": "light"
     },
     "output_type": "display_data"
    },
    {
     "data": {
      "image/png": "[encoded data removed]",
      "text/plain": [
       "<Figure size 432x288 with 1 Axes>"
      ]
     },
     "metadata": {
      "needs_background": "light"
     },
     "output_type": "display_data"
    },
    {
     "data": {
      "image/png": "[encoded data removed]",
      "text/plain": [
       "<Figure size 432x288 with 1 Axes>"
      ]
     },
     "metadata": {
      "needs_background": "light"
     },
     "output_type": "display_data"
    }
   ],
   "source": [
    "plotnumber=1\n",
    "for column in Data:\n",
    " if plotnumber<=14:\n",
    "    sns.boxplot(Data[column],orient='h')\n",
    "    plt.xlabel(column)\n",
    " plotnumber=plotnumber+1\n",
    " plt.show()"
   ]
  },
  {
   "cell_type": "markdown",
   "id": "973aecdc",
   "metadata": {},
   "source": [
    "# TECHNIQUE 1"
   ]
  },
  {
   "cell_type": "code",
   "execution_count": 60,
   "id": "e0b13ea2",
   "metadata": {},
   "outputs": [
    {
     "name": "stdout",
     "output_type": "stream",
     "text": [
      "      fixed acidity  volatile acidity  citric acid  residual sugar  chlorides  \\\n",
      "0          0.528360          0.961877     1.391472        0.453218   0.243707   \n",
      "1          0.298547          1.967442     1.391472        0.043416   0.223875   \n",
      "2          0.298547          1.297065     1.186070        0.169427   0.096353   \n",
      "3          1.654856          1.384443     1.484154        0.453218   0.264960   \n",
      "4          0.528360          0.961877     1.391472        0.453218   0.243707   \n",
      "...             ...               ...          ...             ...        ...   \n",
      "1594       1.217796          0.403229     0.980669        0.382271   0.053845   \n",
      "1595       1.390155          0.123905     0.877968        0.240375   0.541259   \n",
      "1596       1.160343          0.099554     0.723916        0.169427   0.243707   \n",
      "1597       1.390155          0.654620     0.775267        0.382271   0.264960   \n",
      "1598       1.332702          1.216849     1.021999        0.752894   0.434990   \n",
      "\n",
      "      free sulfur dioxide  total sulfur dioxide   density        pH  \\\n",
      "0                0.466193              0.379133  0.558274  1.288643   \n",
      "1                0.872638              0.624363  0.028261  0.719933   \n",
      "2                0.083669              0.229047  0.134264  0.331177   \n",
      "3                0.107592              0.411500  0.664277  0.979104   \n",
      "4                0.466193              0.379133  0.558274  1.288643   \n",
      "...                   ...                   ...       ...       ...   \n",
      "1594             1.542054              0.075043  0.978765  0.899886   \n",
      "1595             2.211469              0.137820  0.862162  1.353436   \n",
      "1596             1.255161              0.196679  0.533554  0.705508   \n",
      "1597             1.542054              0.075043  0.676657  1.677400   \n",
      "1598             0.203223              0.135861  0.666057  0.511130   \n",
      "\n",
      "      sulphates   alcohol  Alcohol_content   quality  Alcohol Content  \n",
      "0      0.579207  0.960246         0.263769  0.787823         0.263769  \n",
      "1      0.128950  0.584777         0.882335  0.787823         0.882335  \n",
      "2      0.048089  0.584777         0.882335  0.787823         0.882335  \n",
      "3      0.461180  0.584777         0.882335  0.450848         0.882335  \n",
      "4      0.579207  0.960246         0.263769  0.787823         0.263769  \n",
      "...         ...       ...              ...       ...              ...  \n",
      "1594   0.461180  0.072294         0.882335  0.787823         0.882335  \n",
      "1595   0.601055  0.729364         1.409873  0.450848         1.409873  \n",
      "1596   0.542042  0.541630         1.409873  0.450848         1.409873  \n",
      "1597   0.305990  0.209308         0.882335  0.787823         0.882335  \n",
      "1598   0.010924  0.541630         1.409873  0.450848         1.409873  \n",
      "\n",
      "[1599 rows x 14 columns]\n"
     ]
    }
   ],
   "source": [
    "from scipy import stats\n",
    "import numpy as np\n",
    "z = np.abs(stats.zscore(Data))\n",
    "print(z)"
   ]
  },
  {
   "cell_type": "code",
   "execution_count": 61,
   "id": "9319480f",
   "metadata": {},
   "outputs": [
    {
     "name": "stdout",
     "output_type": "stream",
     "text": [
      "(array([  13,   14,   15,   15,   17,   17,   19,   33,   38,   42,   43,\n",
      "         45,   57,   81,   81,   83,   86,   88,   91,   92,   95,  106,\n",
      "        106,  109,  120,  126,  127,  142,  144,  147,  151,  151,  151,\n",
      "        151,  163,  164,  169,  169,  181,  199,  226,  226,  240,  243,\n",
      "        244,  258,  258,  274,  281,  291,  324,  325,  339,  340,  347,\n",
      "        354,  374,  381,  391,  396,  396,  400,  400,  442,  442,  451,\n",
      "        459,  467,  480,  480,  494,  515,  517,  544,  554,  554,  555,\n",
      "        555,  557,  557,  568,  584,  588,  591,  595,  608,  614,  636,\n",
      "        639,  649,  649,  651,  652,  652,  652,  672,  672,  684,  690,\n",
      "        690,  692,  692,  695,  723,  724,  730,  754,  776,  777,  795,\n",
      "        821,  832,  836,  837,  889,  899,  911,  917,  923,  925,  926,\n",
      "        982, 1017, 1018, 1043, 1051, 1051, 1071, 1074, 1079, 1079, 1081,\n",
      "       1081, 1111, 1114, 1131, 1154, 1165, 1175, 1186, 1231, 1235, 1244,\n",
      "       1244, 1244, 1260, 1269, 1269, 1270, 1270, 1288, 1289, 1295, 1296,\n",
      "       1299, 1299, 1300, 1312, 1316, 1319, 1319, 1321, 1358, 1367, 1370,\n",
      "       1370, 1372, 1372, 1374, 1374, 1434, 1434, 1434, 1435, 1435, 1435,\n",
      "       1469, 1474, 1474, 1474, 1476, 1476, 1476, 1478, 1493, 1496, 1505,\n",
      "       1558, 1558, 1570, 1574, 1589], dtype=int64), array([ 9,  5,  5,  6,  4,  9,  4,  3,  1,  4,  9,  8,  5,  4,  9,  4,  9,\n",
      "        9,  9,  9,  8,  4,  9,  6,  1,  1,  1, 10, 10,  4,  2,  4,  8,  9,\n",
      "        3,  3,  4,  9,  4,  1,  4,  9,  4,  0,  0,  4,  9,  3,  4,  4,  3,\n",
      "        3,  9,  9,  0,  6,  0,  0,  0,  3,  5,  3,  5,  0,  7,  4, 12, 10,\n",
      "        3,  7,  3,  6, 12,  0,  0,  7,  0,  7,  0,  7,  4,  5, 10,  6,  3,\n",
      "        7,  9,  6,  9,  3,  6,  6,  0,  3, 10,  1,  6,  6,  1, 12,  4,  9,\n",
      "        8,  9,  1,  4,  4,  4,  4,  9, 10, 12,  7,  7,  7, 12,  3,  3,  3,\n",
      "        5,  5,  5,  7,  7,  3,  4,  9,  3,  3,  3,  6,  3,  6,  8,  7,  5,\n",
      "        5,  4,  5,  3,  5,  3,  3,  5,  6,  4,  7, 10,  7, 10,  9,  9,  5,\n",
      "        5,  1, 12,  8,  1,  8,  4,  9,  8,  5,  9,  4,  9,  4,  9,  4, 12,\n",
      "        3,  5,  7,  3,  5,  7, 12,  3,  5,  7,  3,  5,  7, 12,  6,  6, 12,\n",
      "        4,  5,  4,  3,  3], dtype=int64))\n"
     ]
    }
   ],
   "source": [
    "threshold = 3\n",
    "print(np.where(z > 3))"
   ]
  },
  {
   "cell_type": "code",
   "execution_count": 63,
   "id": "84ca7cbd",
   "metadata": {},
   "outputs": [
    {
     "data": {
      "text/plain": [
       "fixed acidity            7.1000\n",
       "volatile acidity         0.3900\n",
       "citric acid              0.0900\n",
       "residual sugar           1.9000\n",
       "chlorides                0.0700\n",
       "free sulfur dioxide      7.0000\n",
       "total sulfur dioxide    22.0000\n",
       "density                  0.9956\n",
       "pH                       3.2100\n",
       "sulphates                0.5500\n",
       "alcohol                  9.5000\n",
       "Alcohol_content          0.0000\n",
       "quality                  5.0000\n",
       "Alcohol Content          0.0000\n",
       "Name: 0.25, dtype: float64"
      ]
     },
     "execution_count": 63,
     "metadata": {},
     "output_type": "execute_result"
    }
   ],
   "source": [
    "q1= Data.quantile(0.25)\n",
    "q1"
   ]
  },
  {
   "cell_type": "code",
   "execution_count": 64,
   "id": "673b4827",
   "metadata": {},
   "outputs": [
    {
     "data": {
      "text/plain": [
       "fixed acidity            9.200000\n",
       "volatile acidity         0.640000\n",
       "citric acid              0.420000\n",
       "residual sugar           2.600000\n",
       "chlorides                0.090000\n",
       "free sulfur dioxide     21.000000\n",
       "total sulfur dioxide    62.000000\n",
       "density                  0.997835\n",
       "pH                       3.400000\n",
       "sulphates                0.730000\n",
       "alcohol                 11.100000\n",
       "Alcohol_content          2.000000\n",
       "quality                  6.000000\n",
       "Alcohol Content          2.000000\n",
       "Name: 0.75, dtype: float64"
      ]
     },
     "execution_count": 64,
     "metadata": {},
     "output_type": "execute_result"
    }
   ],
   "source": [
    "q3= Data.quantile(0.75)\n",
    "q3"
   ]
  },
  {
   "cell_type": "code",
   "execution_count": 65,
   "id": "0c4cb516",
   "metadata": {},
   "outputs": [
    {
     "data": {
      "text/plain": [
       "fixed acidity            2.100000\n",
       "volatile acidity         0.250000\n",
       "citric acid              0.330000\n",
       "residual sugar           0.700000\n",
       "chlorides                0.020000\n",
       "free sulfur dioxide     14.000000\n",
       "total sulfur dioxide    40.000000\n",
       "density                  0.002235\n",
       "pH                       0.190000\n",
       "sulphates                0.180000\n",
       "alcohol                  1.600000\n",
       "Alcohol_content          2.000000\n",
       "quality                  1.000000\n",
       "Alcohol Content          2.000000\n",
       "dtype: float64"
      ]
     },
     "execution_count": 65,
     "metadata": {},
     "output_type": "execute_result"
    }
   ],
   "source": [
    "iqr=q3-q1\n",
    "iqr"
   ]
  },
  {
   "cell_type": "code",
   "execution_count": 68,
   "id": "191b7a92",
   "metadata": {},
   "outputs": [
    {
     "data": {
      "text/plain": [
       "fixed acidity            12.350000\n",
       "volatile acidity          1.015000\n",
       "citric acid               0.915000\n",
       "residual sugar            3.650000\n",
       "chlorides                 0.120000\n",
       "free sulfur dioxide      42.000000\n",
       "total sulfur dioxide    122.000000\n",
       "density                   1.001187\n",
       "pH                        3.685000\n",
       "sulphates                 1.000000\n",
       "alcohol                  13.500000\n",
       "Alcohol_content           5.000000\n",
       "quality                   7.500000\n",
       "Alcohol Content           5.000000\n",
       "dtype: float64"
      ]
     },
     "execution_count": 68,
     "metadata": {},
     "output_type": "execute_result"
    }
   ],
   "source": [
    "Upper_Limit= q3 + 1.5 * iqr\n",
    "Lower_Limit= q1 - 1.5 * iqr\n",
    "Upper_Limit\n"
   ]
  },
  {
   "cell_type": "code",
   "execution_count": 69,
   "id": "549e5c79",
   "metadata": {},
   "outputs": [
    {
     "data": {
      "text/plain": [
       "fixed acidity            3.950000\n",
       "volatile acidity         0.015000\n",
       "citric acid             -0.405000\n",
       "residual sugar           0.850000\n",
       "chlorides                0.040000\n",
       "free sulfur dioxide    -14.000000\n",
       "total sulfur dioxide   -38.000000\n",
       "density                  0.992248\n",
       "pH                       2.925000\n",
       "sulphates                0.280000\n",
       "alcohol                  7.100000\n",
       "Alcohol_content         -3.000000\n",
       "quality                  3.500000\n",
       "Alcohol Content         -3.000000\n",
       "dtype: float64"
      ]
     },
     "execution_count": 69,
     "metadata": {},
     "output_type": "execute_result"
    }
   ],
   "source": [
    "Lower_Limit"
   ]
  },
  {
   "cell_type": "code",
   "execution_count": 79,
   "id": "061716de",
   "metadata": {},
   "outputs": [
    {
     "data": {
      "text/plain": [
       "(array([   9,   11,   13,   14,   14,   14,   14,   15,   15,   15,   15,\n",
       "          17,   17,   18,   19,   19,   33,   35,   38,   38,   39,   40,\n",
       "          42,   43,   45,   55,   57,   57,   64,   65,   79,   81,   81,\n",
       "          83,   83,   86,   86,   88,   88,   90,   91,   91,   92,   92,\n",
       "          94,   94,   95,  106,  106,  109,  109,  120,  120,  125,  126,\n",
       "         127,  130,  134,  142,  144,  145,  147,  151,  151,  151,  154,\n",
       "         154,  155,  155,  156,  156,  157,  157,  161,  163,  164,  169,\n",
       "         169,  181,  181,  188,  189,  190,  192,  192,  199,  201,  201,\n",
       "         205,  206,  215,  219,  226,  226,  240,  240,  243,  244,  258,\n",
       "         258,  264,  267,  268,  269,  270,  271,  272,  274,  275,  276,\n",
       "         277,  278,  278,  279,  281,  281,  283,  291,  294,  294,  303,\n",
       "         307,  308,  313,  324,  324,  325,  325,  326,  327,  328,  330,\n",
       "         331,  335,  338,  338,  339,  339,  340,  347,  353,  353,  353,\n",
       "         353,  354,  359,  363,  364,  364,  364,  366,  366,  366,  368,\n",
       "         369,  372,  374,  374,  374,  375,  375,  376,  377,  378,  381,\n",
       "         381,  390,  391,  391,  394,  395,  396,  396,  396,  396,  400,\n",
       "         400,  400,  400,  408,  408,  409,  409,  413,  415,  415,  415,\n",
       "         415,  417,  418,  429,  440,  440,  442,  442,  442,  446,  447,\n",
       "         451,  451,  455,  455,  463,  467,  470,  472,  477,  480,  480,\n",
       "         481,  482,  482,  483,  483,  484,  494,  495,  497,  498,  501,\n",
       "         502,  503,  504,  506,  509,  510,  510,  512,  515,  515,  515,\n",
       "         515,  516,  516,  517,  522,  522,  523,  538,  538,  538,  539,\n",
       "         541,  544,  548,  549,  553,  553,  554,  554,  554,  555,  555,\n",
       "         555,  556,  557,  557,  557,  558,  559,  559,  559,  560,  564,\n",
       "         564,  564,  565,  566,  567,  568,  584,  586,  588,  588,  588,\n",
       "         591,  595,  596,  599,  601,  603,  606,  608,  608,  611,  614,\n",
       "         614,  618,  624,  624,  625,  625,  634,  636,  637,  638,  639,\n",
       "         645,  649,  649,  651,  652,  652,  652,  659,  666,  672,  672,\n",
       "         678,  680,  684,  689,  689,  690,  690,  692,  692,  694,  695,\n",
       "         700,  705,  705,  710,  719,  723,  723,  724,  730,  740,  741,\n",
       "         754,  754,  771,  772,  773,  774,  776,  777,  780,  791,  795,\n",
       "         795,  796,  800,  808,  811,  814,  821,  821,  828,  832,  833,\n",
       "         852,  878,  882,  884,  889,  889,  899,  903,  904,  910,  910,\n",
       "         911,  913,  916,  917,  923,  925,  926,  930,  934,  941,  944,\n",
       "         946,  958,  974,  982,  996,  997, 1014, 1020, 1021, 1032, 1038,\n",
       "        1043, 1051, 1051, 1056, 1057, 1059, 1061, 1071, 1074, 1075, 1077,\n",
       "        1078, 1079, 1079, 1081, 1081, 1086, 1090, 1094, 1096, 1098, 1109,\n",
       "        1111, 1114, 1114, 1120, 1131, 1131, 1132, 1133, 1138, 1146, 1147,\n",
       "        1154, 1156, 1158, 1165, 1165, 1175, 1176, 1186, 1190, 1191, 1193,\n",
       "        1202, 1203, 1207, 1217, 1220, 1221, 1224, 1226, 1228, 1231, 1235,\n",
       "        1239, 1244, 1244, 1244, 1252, 1256, 1257, 1258, 1259, 1260, 1260,\n",
       "        1261, 1269, 1269, 1270, 1270, 1276, 1288, 1288, 1289, 1289, 1295,\n",
       "        1295, 1296, 1296, 1299, 1299, 1300, 1307, 1312, 1316, 1319, 1319,\n",
       "        1321, 1331, 1334, 1358, 1358, 1358, 1367, 1370, 1370, 1371, 1371,\n",
       "        1372, 1372, 1373, 1374, 1377, 1388, 1394, 1400, 1401, 1403, 1403,\n",
       "        1406, 1408, 1412, 1419, 1423, 1423, 1434, 1434, 1434, 1434, 1435,\n",
       "        1435, 1435, 1435, 1436, 1437, 1441, 1445, 1449, 1467, 1471, 1474,\n",
       "        1474, 1474, 1474, 1475, 1476, 1476, 1476, 1476, 1477, 1478, 1488,\n",
       "        1491, 1493, 1496, 1501, 1514, 1515, 1540, 1549, 1552, 1558, 1558,\n",
       "        1558, 1559, 1560, 1561, 1570, 1574, 1577, 1589], dtype=int64),\n",
       " array([ 3,  3,  9,  3,  4,  5,  6,  3,  4,  5,  6,  4,  9,  3,  4,  9,  3,\n",
       "         3,  1,  4,  3,  3,  4,  9,  8,  3,  3,  5,  3,  3,  9,  4,  9,  4,\n",
       "         9,  6,  9,  6,  9,  6,  6,  9,  6,  9,  1,  8,  8,  4,  9,  4,  6,\n",
       "         1,  4,  4,  1,  1,  6,  1, 10, 10,  6,  4,  2,  4,  9,  3,  6,  3,\n",
       "         6,  3,  6,  3,  6,  9,  3,  3,  4,  9,  4,  9,  6,  6,  6,  3,  6,\n",
       "         1,  6,  9,  0,  0,  3,  6,  4,  9,  4,  9,  0,  0,  4,  9,  0, 12,\n",
       "         8,  3,  3,  3,  3,  3,  3,  8,  3,  3, 12,  3,  4,  9,  3,  4,  0,\n",
       "         7,  4,  4,  4,  6,  3,  7,  3,  7,  4,  3,  0,  4,  4,  4,  0,  9,\n",
       "         0,  9,  9,  0,  0,  3,  4,  7,  6,  0,  0,  0,  3,  7,  0,  3,  7,\n",
       "         4,  9,  9,  0,  3,  7,  3,  4,  9,  9,  3,  0,  7, 12,  0,  7,  0,\n",
       "         3,  3,  4,  5,  6,  3,  4,  5,  6,  3,  4,  0,  3,  3,  3,  6,  7,\n",
       "         9,  6,  4,  0,  0, 12,  0,  3,  7,  0,  4,  4,  9,  3, 12,  6, 10,\n",
       "         0,  0,  9,  3,  7, 12,  4,  9,  4,  9,  3,  3, 12,  5, 12,  3,  3,\n",
       "         9,  9,  9,  0,  0,  3,  4,  3,  4,  6,  9,  0,  3,  4,  5,  6,  6,\n",
       "         0,  3,  7,  3,  3,  0,  0,  4,  1,  8,  0,  3,  7,  0,  3,  7,  3,\n",
       "         0,  3,  7,  3,  0,  3,  7,  0,  0,  3,  7,  0,  4,  4,  4,  5,  9,\n",
       "         8, 10, 12,  6,  3,  0,  0,  0,  0,  3,  3,  7,  0,  4,  9,  4,  3,\n",
       "         4,  3,  4,  5,  6,  6,  4,  9,  3,  3,  6,  6,  0,  3, 10,  3,  4,\n",
       "         1,  6,  5,  0,  6,  4,  9,  1,  3,  4,  9,  6,  8,  1,  1,  3,  1,\n",
       "         3,  6,  9,  1,  4,  3,  6,  4,  9,  6,  6,  4,  4,  4,  4,  4,  6,\n",
       "         4,  9,  4,  3,  4,  0,  0,  8, 10, 12,  4,  4,  9,  3,  4,  3,  3,\n",
       "         7,  1,  3,  3,  3,  4,  3,  3,  4,  3,  3,  5,  5,  8,  8,  3,  3,\n",
       "         3,  4,  3,  5,  8,  8,  4,  4,  4,  3,  3,  3,  4,  9,  3,  3,  3,\n",
       "        12,  3,  3,  5,  3,  3,  3,  6,  3,  6,  3, 12,  3,  3,  4,  4,  8,\n",
       "         3, 10, 12,  5,  6, 10,  3,  3,  4,  3,  5,  5,  9,  4,  9,  5,  3,\n",
       "         3,  3,  4,  4, 12,  3,  4,  5,  4,  4,  0,  3, 10,  5,  3,  3,  3,\n",
       "         5,  6,  4,  5,  3,  4,  4,  4,  9,  1, 10, 12,  8, 10,  3,  3,  9,\n",
       "         3,  9,  3,  5,  3,  5,  1,  4,  8,  3,  1,  8,  4,  9,  8,  3,  4,\n",
       "         3,  4,  5,  9,  4,  9,  4,  9,  4,  9,  3,  4,  8,  3,  3,  6,  6,\n",
       "         9, 12,  3,  9,  3,  6,  3,  4,  3,  4,  5,  7,  3,  4,  5,  7,  4,\n",
       "         3,  3,  3, 12,  1,  3,  3,  4,  5,  7, 10,  3,  4,  5,  7, 10,  3,\n",
       "         8,  8,  6,  6,  3,  3,  3,  3, 12,  3,  3,  4,  5,  6,  6,  6,  4,\n",
       "         3,  3,  3], dtype=int64))"
      ]
     },
     "execution_count": 79,
     "metadata": {},
     "output_type": "execute_result"
    }
   ],
   "source": [
    "Index1=np.where(Data>Upper_Limit)\n",
    "Index1"
   ]
  },
  {
   "cell_type": "code",
   "execution_count": 74,
   "id": "1eff8bdb",
   "metadata": {},
   "outputs": [
    {
     "data": {
      "text/plain": [
       "(array([ 142,  144,  151,  210,  354,  440,  459,  517,  544,  554,  555,\n",
       "         557,  588,  591,  614,  650,  656,  657,  688,  690,  695,  695,\n",
       "         797,  821,  832,  836,  836,  837,  837,  861,  899,  999, 1017,\n",
       "        1017, 1018, 1018, 1114, 1122, 1126, 1228, 1269, 1270, 1298, 1299,\n",
       "        1319, 1374, 1469, 1470, 1475, 1477, 1478, 1490, 1505, 1571],\n",
       "       dtype=int64),\n",
       " array([ 7,  7,  8,  4,  7,  8, 12, 12,  8,  8,  8,  8,  7,  7,  8,  8,  8,\n",
       "         8,  4, 12,  4,  7,  4,  7, 12,  4,  7,  4,  7,  4, 12,  7,  7,  8,\n",
       "         7,  8,  7,  7,  7,  7,  7,  7,  7, 12,  8, 12, 12,  8,  7,  7, 12,\n",
       "         4, 12,  4], dtype=int64))"
      ]
     },
     "execution_count": 74,
     "metadata": {},
     "output_type": "execute_result"
    }
   ],
   "source": [
    "Index2=np.where(Data<Lower_Limit)\n",
    "Index2"
   ]
  },
  {
   "cell_type": "code",
   "execution_count": 80,
   "id": "385b9358",
   "metadata": {},
   "outputs": [
    {
     "ename": "IndexError",
     "evalue": "too many indices for array: array is 1-dimensional, but 2 were indexed",
     "output_type": "error",
     "traceback": [
      "\u001b[1;31m---------------------------------------------------------------------------\u001b[0m",
      "\u001b[1;31mIndexError\u001b[0m                                Traceback (most recent call last)",
      "\u001b[1;32mC:\\Users\\ARSHIM~1\\AppData\\Local\\Temp/ipykernel_1368/2079346504.py\u001b[0m in \u001b[0;36m<module>\u001b[1;34m\u001b[0m\n\u001b[1;32m----> 1\u001b[1;33m \u001b[0mData\u001b[0m\u001b[1;33m=\u001b[0m\u001b[0mData\u001b[0m\u001b[1;33m.\u001b[0m\u001b[0mdrop\u001b[0m\u001b[1;33m(\u001b[0m\u001b[0mData\u001b[0m\u001b[1;33m.\u001b[0m\u001b[0mindex\u001b[0m\u001b[1;33m[\u001b[0m\u001b[0mIndex1\u001b[0m\u001b[1;33m]\u001b[0m\u001b[1;33m)\u001b[0m\u001b[1;33m\u001b[0m\u001b[1;33m\u001b[0m\u001b[0m\n\u001b[0m",
      "\u001b[1;32m~\\anaconda3\\lib\\site-packages\\pandas\\core\\indexes\\range.py\u001b[0m in \u001b[0;36m__getitem__\u001b[1;34m(self, key)\u001b[0m\n\u001b[0;32m    837\u001b[0m             )\n\u001b[0;32m    838\u001b[0m         \u001b[1;31m# fall back to Int64Index\u001b[0m\u001b[1;33m\u001b[0m\u001b[1;33m\u001b[0m\u001b[0m\n\u001b[1;32m--> 839\u001b[1;33m         \u001b[1;32mreturn\u001b[0m \u001b[0msuper\u001b[0m\u001b[1;33m(\u001b[0m\u001b[1;33m)\u001b[0m\u001b[1;33m.\u001b[0m\u001b[0m__getitem__\u001b[0m\u001b[1;33m(\u001b[0m\u001b[0mkey\u001b[0m\u001b[1;33m)\u001b[0m\u001b[1;33m\u001b[0m\u001b[1;33m\u001b[0m\u001b[0m\n\u001b[0m\u001b[0;32m    840\u001b[0m \u001b[1;33m\u001b[0m\u001b[0m\n\u001b[0;32m    841\u001b[0m     \u001b[1;32mdef\u001b[0m \u001b[0m_getitem_slice\u001b[0m\u001b[1;33m(\u001b[0m\u001b[0mself\u001b[0m\u001b[1;33m:\u001b[0m \u001b[0mRangeIndex\u001b[0m\u001b[1;33m,\u001b[0m \u001b[0mslobj\u001b[0m\u001b[1;33m:\u001b[0m \u001b[0mslice\u001b[0m\u001b[1;33m)\u001b[0m \u001b[1;33m->\u001b[0m \u001b[0mRangeIndex\u001b[0m\u001b[1;33m:\u001b[0m\u001b[1;33m\u001b[0m\u001b[1;33m\u001b[0m\u001b[0m\n",
      "\u001b[1;32m~\\anaconda3\\lib\\site-packages\\pandas\\core\\indexes\\base.py\u001b[0m in \u001b[0;36m__getitem__\u001b[1;34m(self, key)\u001b[0m\n\u001b[0;32m   4614\u001b[0m             \u001b[0mkey\u001b[0m \u001b[1;33m=\u001b[0m \u001b[0mnp\u001b[0m\u001b[1;33m.\u001b[0m\u001b[0masarray\u001b[0m\u001b[1;33m(\u001b[0m\u001b[0mkey\u001b[0m\u001b[1;33m,\u001b[0m \u001b[0mdtype\u001b[0m\u001b[1;33m=\u001b[0m\u001b[0mbool\u001b[0m\u001b[1;33m)\u001b[0m\u001b[1;33m\u001b[0m\u001b[1;33m\u001b[0m\u001b[0m\n\u001b[0;32m   4615\u001b[0m \u001b[1;33m\u001b[0m\u001b[0m\n\u001b[1;32m-> 4616\u001b[1;33m         \u001b[0mresult\u001b[0m \u001b[1;33m=\u001b[0m \u001b[0mgetitem\u001b[0m\u001b[1;33m(\u001b[0m\u001b[0mkey\u001b[0m\u001b[1;33m)\u001b[0m\u001b[1;33m\u001b[0m\u001b[1;33m\u001b[0m\u001b[0m\n\u001b[0m\u001b[0;32m   4617\u001b[0m         \u001b[1;32mif\u001b[0m \u001b[1;32mnot\u001b[0m \u001b[0mis_scalar\u001b[0m\u001b[1;33m(\u001b[0m\u001b[0mresult\u001b[0m\u001b[1;33m)\u001b[0m\u001b[1;33m:\u001b[0m\u001b[1;33m\u001b[0m\u001b[1;33m\u001b[0m\u001b[0m\n\u001b[0;32m   4618\u001b[0m             \u001b[1;31m# error: Argument 1 to \"ndim\" has incompatible type \"Union[ExtensionArray,\u001b[0m\u001b[1;33m\u001b[0m\u001b[1;33m\u001b[0m\u001b[0m\n",
      "\u001b[1;31mIndexError\u001b[0m: too many indices for array: array is 1-dimensional, but 2 were indexed"
     ]
    }
   ],
   "source": [
    "Data=Data.drop(Data.index[Index1])"
   ]
  },
  {
   "cell_type": "markdown",
   "id": "3bd44819",
   "metadata": {},
   "source": [
    "# TECHNIQUE 2"
   ]
  },
  {
   "cell_type": "code",
   "execution_count": 81,
   "id": "f7100c5e",
   "metadata": {},
   "outputs": [],
   "source": [
    "q1= Data.quantile(0.25)\n",
    "q3= Data.quantile(0.75)\n",
    "IQR=q3-q1"
   ]
  },
  {
   "cell_type": "code",
   "execution_count": 83,
   "id": "cbe0a0a1",
   "metadata": {},
   "outputs": [
    {
     "ename": "SyntaxError",
     "evalue": "invalid syntax (Temp/ipykernel_1368/3532269012.py, line 1)",
     "output_type": "error",
     "traceback": [
      "\u001b[1;36m  File \u001b[1;32m\"C:\\Users\\ARSHIM~1\\AppData\\Local\\Temp/ipykernel_1368/3532269012.py\"\u001b[1;36m, line \u001b[1;32m1\u001b[0m\n\u001b[1;33m    High_Fixed_Acidity=(q3+(1.5*IQR.fixed acidity))\u001b[0m\n\u001b[1;37m                                          ^\u001b[0m\n\u001b[1;31mSyntaxError\u001b[0m\u001b[1;31m:\u001b[0m invalid syntax\n"
     ]
    }
   ],
   "source": [
    "High_Fixed_Acidity=(q3+(1.5*IQR.fixed acidity))\n",
    "High_Fixed_Acidity"
   ]
  },
  {
   "cell_type": "code",
   "execution_count": null,
   "id": "ad72ad10",
   "metadata": {},
   "outputs": [],
   "source": []
  }
 ],
 "metadata": {
  "kernelspec": {
   "display_name": "Python 3 (ipykernel)",
   "language": "python",
   "name": "python3"
  },
  "language_info": {
   "codemirror_mode": {
    "name": "ipython",
    "version": 3
   },
   "file_extension": ".py",
   "mimetype": "text/x-python",
   "name": "python",
   "nbconvert_exporter": "python",
   "pygments_lexer": "ipython3",
   "version": "3.9.7"
  }
 },
 "nbformat": 4,
 "nbformat_minor": 5
}
